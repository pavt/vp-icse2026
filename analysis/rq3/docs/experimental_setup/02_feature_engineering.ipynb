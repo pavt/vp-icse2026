{
 "cells": [
  {
   "cell_type": "markdown",
   "metadata": {},
   "source": []
  },
  {
   "cell_type": "code",
   "execution_count": 17,
   "metadata": {},
   "outputs": [
    {
     "name": "stdout",
     "output_type": "stream",
     "text": [
      "<class 'pandas.core.frame.DataFrame'>\n",
      "RangeIndex: 255 entries, 0 to 254\n",
      "Columns: 1141 entries, branches to desc_trigram_most_common_yet_anoth_upload\n",
      "dtypes: float64(9), int64(1132)\n",
      "memory usage: 2.2 MB\n"
     ]
    }
   ],
   "source": [
    "import pandas as pd\n",
    "\n",
    "# Load the preprocessed dataset\n",
    "df = pd.read_csv(input_path)\n",
    "\n",
    "# Display dataset information\n",
    "df.info()\n",
    " \n"
   ]
  },
  {
   "cell_type": "code",
   "execution_count": null,
   "metadata": {},
   "outputs": [
    {
     "name": "stdout",
     "output_type": "stream",
     "text": [
      "repo_meta: 7 features\n",
      "repo_activity: 8 features\n",
      "dependency_only: 769 features\n",
      "all_but_text: 817 features\n",
      "full_features: 1141 features\n"
     ]
    }
   ],
   "source": [
    "# Define corrected feature sets\n",
    "feature_sets = {\n",
    "    \"repo_meta\": [\n",
    "        \"branches\", \"releases\", \"forks\", \"watchers\", \"stargazers\", \n",
    "        \"contributors\", \"size\"\n",
    "    ],\n",
    "    \"repo_activity\": [\n",
    "        \"totalIssues\", \"openIssues\", \"totalPullRequests\", \"openPullRequests\", \n",
    "        \"commit_count\", \"issue_count\", \"network_count\", \"subscribers_count\"\n",
    "    ],\n",
    "    \"dependency_only\": [\"dep_count\"] + [col for col in df.columns if col.startswith(\"dep_\")],\n",
    "    \"all_but_text\": [],  # To be populated dynamically\n",
    "    \"full_features\": df.columns.tolist()  # Use all available features\n",
    "}\n",
    "\n",
    "# Exclude text-based features from 'all_but_text'\n",
    "text_features = [col for col in df.columns if col.startswith((\"desc_bigram_\", \"desc_trigram_\"))]\n",
    "feature_sets[\"all_but_text\"] = [col for col in df.columns if col not in text_features]\n",
    "\n",
    "# Verify the corrected feature sets\n",
    "for key, features in feature_sets.items():\n",
    "    print(f\"{key}: {len(features)} features\")\n"
   ]
  },
  {
   "cell_type": "code",
   "execution_count": 19,
   "metadata": {},
   "outputs": [
    {
     "name": "stdout",
     "output_type": "stream",
     "text": [
      "repo_meta: (255, 8)\n",
      "repo_activity: (255, 9)\n",
      "dependency_only: (255, 770)\n",
      "all_but_text: (255, 818)\n",
      "full_features: (255, 1142)\n"
     ]
    }
   ],
   "source": [
    "# Define the correct target variable\n",
    "target_variable = \"vp-category-equalfreq\"\n",
    "\n",
    "# Create DataFrames for each feature set, ensuring the target variable is included\n",
    "df_feature_sets = {\n",
    "    key: df[features + [target_variable]] for key, features in feature_sets.items()\n",
    "}\n",
    "\n",
    "# Display the shape of each feature set DataFrame\n",
    "for key, df_subset in df_feature_sets.items():\n",
    "    print(f\"{key}: {df_subset.shape}\")\n"
   ]
  },
  {
   "cell_type": "code",
   "execution_count": 20,
   "metadata": {},
   "outputs": [
    {
     "name": "stdout",
     "output_type": "stream",
     "text": [
      "Saved: datasets/repo_meta.csv\n",
      "Saved: datasets/repo_activity.csv\n",
      "Saved: datasets/dependency_only.csv\n",
      "Saved: datasets/all_but_text.csv\n",
      "Saved: datasets/full_features.csv\n"
     ]
    }
   ],
   "source": [
    "import os\n",
    "\n",
    "# Define the output directory\n",
    "output_dir = \"datasets\"\n",
    "\n",
    "# Ensure the directory exists\n",
    "os.makedirs(output_dir, exist_ok=True)\n",
    "\n",
    "# Save each feature set as a CSV file\n",
    "for key, df_subset in df_feature_sets.items():\n",
    "    file_path = os.path.join(output_dir, f\"{key}.csv\")\n",
    "    df_subset.to_csv(file_path, index=False)\n",
    "    print(f\"Saved: {file_path}\")\n"
   ]
  }
 ],
 "metadata": {
  "kernelspec": {
   "display_name": ".venv",
   "language": "python",
   "name": "python3"
  },
  "language_info": {
   "codemirror_mode": {
    "name": "ipython",
    "version": 3
   },
   "file_extension": ".py",
   "mimetype": "text/x-python",
   "name": "python",
   "nbconvert_exporter": "python",
   "pygments_lexer": "ipython3",
   "version": "3.12.6"
  }
 },
 "nbformat": 4,
 "nbformat_minor": 2
}
