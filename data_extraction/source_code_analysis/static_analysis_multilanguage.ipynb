{
 "cells": [
  {
   "cell_type": "markdown",
   "metadata": {},
   "source": [
    "### Codeql Analysis\n"
   ]
  },
  {
   "cell_type": "code",
   "execution_count": 2,
   "metadata": {},
   "outputs": [
    {
     "name": "stderr",
     "output_type": "stream",
     "text": [
      "Analyzing repositories:   0%|          | 0/292 [00:00<?, ?it/s]"
     ]
    },
    {
     "name": "stdout",
     "output_type": "stream",
     "text": [
      "Creating database for 10up/action-repo-automator...\n",
      "Analyzing 10up/action-repo-automator...\n"
     ]
    },
    {
     "name": "stderr",
     "output_type": "stream",
     "text": [
      "Analyzing repositories:   0%|          | 1/292 [00:57<4:40:53, 57.91s/it]"
     ]
    },
    {
     "name": "stdout",
     "output_type": "stream",
     "text": [
      "Creating database for 1Password/load-secrets-action...\n",
      "Analyzing 1Password/load-secrets-action...\n"
     ]
    },
    {
     "name": "stderr",
     "output_type": "stream",
     "text": [
      "Analyzing repositories:   1%|          | 2/292 [01:48<4:17:55, 53.36s/it]"
     ]
    },
    {
     "name": "stdout",
     "output_type": "stream",
     "text": [
      "Creating database for 42Crunch/api-security-audit-action...\n",
      "Analyzing 42Crunch/api-security-audit-action...\n"
     ]
    },
    {
     "name": "stderr",
     "output_type": "stream",
     "text": [
      "Analyzing repositories:   1%|          | 3/292 [02:28<3:48:27, 47.43s/it]"
     ]
    },
    {
     "name": "stdout",
     "output_type": "stream",
     "text": [
      "Creating database for 8398a7/action-slack...\n",
      "Analyzing 8398a7/action-slack...\n"
     ]
    },
    {
     "name": "stderr",
     "output_type": "stream",
     "text": [
      "Analyzing repositories:   1%|▏         | 4/292 [03:09<3:36:21, 45.07s/it]"
     ]
    },
    {
     "name": "stdout",
     "output_type": "stream",
     "text": [
      "Creating database for AlexSim93/pull-request-analytics-action...\n",
      "Analyzing AlexSim93/pull-request-analytics-action...\n"
     ]
    },
    {
     "name": "stderr",
     "output_type": "stream",
     "text": [
      "Analyzing repositories:   2%|▏         | 5/292 [04:11<4:04:46, 51.17s/it]"
     ]
    },
    {
     "name": "stdout",
     "output_type": "stream",
     "text": [
      "Creating database for Anmol-Baranwal/DevtoGitHub...\n",
      "Analyzing Anmol-Baranwal/DevtoGitHub...\n"
     ]
    },
    {
     "name": "stderr",
     "output_type": "stream",
     "text": [
      "Analyzing repositories:   2%|▏         | 6/292 [05:07<4:10:47, 52.61s/it]"
     ]
    },
    {
     "name": "stdout",
     "output_type": "stream",
     "text": [
      "Creating database for Apple-Actions/download-provisioning-profiles...\n",
      "Analyzing Apple-Actions/download-provisioning-profiles...\n"
     ]
    },
    {
     "name": "stderr",
     "output_type": "stream",
     "text": [
      "Analyzing repositories:   2%|▏         | 7/292 [05:53<4:00:04, 50.54s/it]"
     ]
    },
    {
     "name": "stdout",
     "output_type": "stream",
     "text": [
      "Creating database for ArtiomTr/jest-coverage-report-action...\n",
      "Analyzing ArtiomTr/jest-coverage-report-action...\n"
     ]
    },
    {
     "name": "stderr",
     "output_type": "stream",
     "text": [
      "Analyzing repositories:   3%|▎         | 8/292 [07:19<4:51:58, 61.69s/it]"
     ]
    },
    {
     "name": "stdout",
     "output_type": "stream",
     "text": [
      "Creating database for Azure/k8s-lint...\n",
      "Analyzing Azure/k8s-lint...\n"
     ]
    },
    {
     "name": "stderr",
     "output_type": "stream",
     "text": [
      "Analyzing repositories:   3%|▎         | 9/292 [07:59<4:18:58, 54.91s/it]"
     ]
    },
    {
     "name": "stdout",
     "output_type": "stream",
     "text": [
      "Creating database for Azure/cli...\n",
      "Analyzing Azure/cli...\n"
     ]
    },
    {
     "name": "stderr",
     "output_type": "stream",
     "text": [
      "Analyzing repositories:   3%|▎         | 10/292 [08:41<3:59:22, 50.93s/it]"
     ]
    },
    {
     "name": "stdout",
     "output_type": "stream",
     "text": [
      "Creating database for Azure/k8s-set-context...\n",
      "Analyzing Azure/k8s-set-context...\n"
     ]
    },
    {
     "name": "stderr",
     "output_type": "stream",
     "text": [
      "Analyzing repositories:   4%|▍         | 11/292 [09:21<3:42:53, 47.59s/it]"
     ]
    },
    {
     "name": "stdout",
     "output_type": "stream",
     "text": [
      "Creating database for Azure/mysql...\n",
      "Analyzing Azure/mysql...\n"
     ]
    },
    {
     "name": "stderr",
     "output_type": "stream",
     "text": [
      "Analyzing repositories:   4%|▍         | 12/292 [10:03<3:34:00, 45.86s/it]"
     ]
    },
    {
     "name": "stdout",
     "output_type": "stream",
     "text": [
      "Creating database for Azure/pipelines...\n",
      "Analyzing Azure/pipelines...\n"
     ]
    },
    {
     "name": "stderr",
     "output_type": "stream",
     "text": [
      "Analyzing repositories:   4%|▍         | 13/292 [11:01<3:51:28, 49.78s/it]"
     ]
    },
    {
     "name": "stdout",
     "output_type": "stream",
     "text": [
      "Creating database for Azure/k8s-deploy...\n",
      "Analyzing Azure/k8s-deploy...\n"
     ]
    },
    {
     "name": "stderr",
     "output_type": "stream",
     "text": [
      "Analyzing repositories:   5%|▍         | 14/292 [11:46<3:42:59, 48.13s/it]"
     ]
    },
    {
     "name": "stdout",
     "output_type": "stream",
     "text": [
      "Creating database for Balastrong/chess-stats-action...\n",
      "Analyzing Balastrong/chess-stats-action...\n"
     ]
    },
    {
     "name": "stderr",
     "output_type": "stream",
     "text": [
      "Analyzing repositories:   5%|▌         | 15/292 [12:28<3:34:21, 46.43s/it]"
     ]
    },
    {
     "name": "stdout",
     "output_type": "stream",
     "text": [
      "Creating database for BetaHuhn/deploy-to-vercel-action...\n",
      "Analyzing BetaHuhn/deploy-to-vercel-action...\n"
     ]
    },
    {
     "name": "stderr",
     "output_type": "stream",
     "text": [
      "Analyzing repositories:   5%|▌         | 16/292 [13:15<3:34:11, 46.56s/it]"
     ]
    },
    {
     "name": "stdout",
     "output_type": "stream",
     "text": [
      "Creating database for Bhacaz/docs-as-code-confluence...\n",
      "Analyzing Bhacaz/docs-as-code-confluence...\n"
     ]
    },
    {
     "name": "stderr",
     "output_type": "stream",
     "text": [
      "Analyzing repositories:   6%|▌         | 17/292 [14:04<3:36:12, 47.17s/it]"
     ]
    },
    {
     "name": "stdout",
     "output_type": "stream",
     "text": [
      "Creating database for Chocobo1/setup-ccache-action...\n",
      "Analyzing Chocobo1/setup-ccache-action...\n"
     ]
    },
    {
     "name": "stderr",
     "output_type": "stream",
     "text": [
      "Analyzing repositories:   6%|▌         | 18/292 [15:21<4:17:02, 56.29s/it]"
     ]
    },
    {
     "name": "stdout",
     "output_type": "stream",
     "text": [
      "Creating database for CircleCI-Public/trigger-circleci-pipeline-action...\n",
      "Analyzing CircleCI-Public/trigger-circleci-pipeline-action...\n"
     ]
    },
    {
     "name": "stderr",
     "output_type": "stream",
     "text": [
      "Analyzing repositories:   7%|▋         | 19/292 [16:09<4:04:43, 53.78s/it]"
     ]
    },
    {
     "name": "stdout",
     "output_type": "stream",
     "text": [
      "Creating database for Cyberbeni/install-swift-tool...\n",
      "Analyzing Cyberbeni/install-swift-tool...\n"
     ]
    },
    {
     "name": "stderr",
     "output_type": "stream",
     "text": [
      "Analyzing repositories:   7%|▋         | 20/292 [17:09<4:11:38, 55.51s/it]"
     ]
    },
    {
     "name": "stdout",
     "output_type": "stream",
     "text": [
      "Creating database for CycloneDX/gh-node-module-generatebom...\n",
      "Analyzing CycloneDX/gh-node-module-generatebom...\n"
     ]
    },
    {
     "name": "stderr",
     "output_type": "stream",
     "text": [
      "Analyzing repositories:   7%|▋         | 21/292 [17:48<3:49:15, 50.76s/it]"
     ]
    },
    {
     "name": "stdout",
     "output_type": "stream",
     "text": [
      "Creating database for DataDog/synthetics-ci-github-action...\n",
      "Analyzing DataDog/synthetics-ci-github-action...\n"
     ]
    },
    {
     "name": "stderr",
     "output_type": "stream",
     "text": [
      "Analyzing repositories:   8%|▊         | 22/292 [19:27<4:52:47, 65.07s/it]"
     ]
    },
    {
     "name": "stdout",
     "output_type": "stream",
     "text": [
      "Creating database for DavideViolante/pr-reviews-reminder-action...\n",
      "Analyzing DavideViolante/pr-reviews-reminder-action...\n"
     ]
    },
    {
     "name": "stderr",
     "output_type": "stream",
     "text": [
      "Analyzing repositories:   8%|▊         | 23/292 [20:11<4:23:49, 58.84s/it]"
     ]
    },
    {
     "name": "stdout",
     "output_type": "stream",
     "text": [
      "Creating database for DeLaGuardo/setup-clojure...\n",
      "Analyzing DeLaGuardo/setup-clojure...\n"
     ]
    },
    {
     "name": "stderr",
     "output_type": "stream",
     "text": [
      "Analyzing repositories:   8%|▊         | 24/292 [21:19<4:35:21, 61.65s/it]"
     ]
    },
    {
     "name": "stdout",
     "output_type": "stream",
     "text": [
      "Creating database for DependencyTrack/gh-upload-sbom...\n",
      "Analyzing DependencyTrack/gh-upload-sbom...\n"
     ]
    },
    {
     "name": "stderr",
     "output_type": "stream",
     "text": [
      "Analyzing repositories:   9%|▊         | 25/292 [21:59<4:04:40, 54.98s/it]"
     ]
    },
    {
     "name": "stdout",
     "output_type": "stream",
     "text": [
      "Creating database for DevCycleHQ/feature-flag-pr-insights-action...\n",
      "Analyzing DevCycleHQ/feature-flag-pr-insights-action...\n"
     ]
    },
    {
     "name": "stderr",
     "output_type": "stream",
     "text": [
      "Analyzing repositories:   9%|▉         | 26/292 [22:55<4:06:04, 55.50s/it]"
     ]
    },
    {
     "name": "stdout",
     "output_type": "stream",
     "text": [
      "Creating database for DevCycleHQ/feature-flag-code-usage-action...\n",
      "Analyzing DevCycleHQ/feature-flag-code-usage-action...\n"
     ]
    },
    {
     "name": "stderr",
     "output_type": "stream",
     "text": [
      "Analyzing repositories:   9%|▉         | 27/292 [23:52<4:06:04, 55.71s/it]"
     ]
    },
    {
     "name": "stdout",
     "output_type": "stream",
     "text": [
      "Creating database for DopplerHQ/cli-action...\n",
      "Analyzing DopplerHQ/cli-action...\n"
     ]
    },
    {
     "name": "stderr",
     "output_type": "stream",
     "text": [
      "Analyzing repositories:  10%|▉         | 28/292 [24:31<3:43:41, 50.84s/it]"
     ]
    },
    {
     "name": "stdout",
     "output_type": "stream",
     "text": [
      "Creating database for ExpediaGroup/spinnaker-pipeline-trigger...\n",
      "Analyzing ExpediaGroup/spinnaker-pipeline-trigger...\n"
     ]
    },
    {
     "name": "stderr",
     "output_type": "stream",
     "text": [
      "Analyzing repositories:  10%|▉         | 29/292 [25:26<3:48:33, 52.14s/it]"
     ]
    },
    {
     "name": "stdout",
     "output_type": "stream",
     "text": [
      "Creating database for ExpediaGroup/github-helpers...\n",
      "Analyzing ExpediaGroup/github-helpers...\n"
     ]
    },
    {
     "name": "stderr",
     "output_type": "stream",
     "text": [
      "Analyzing repositories:  10%|█         | 30/292 [26:46<4:24:15, 60.52s/it]"
     ]
    },
    {
     "name": "stdout",
     "output_type": "stream",
     "text": [
      "Creating database for GrantBirki/git-diff-action...\n",
      "Analyzing GrantBirki/git-diff-action...\n"
     ]
    },
    {
     "name": "stderr",
     "output_type": "stream",
     "text": [
      "Analyzing repositories:  11%|█         | 31/292 [27:35<4:08:10, 57.05s/it]"
     ]
    },
    {
     "name": "stdout",
     "output_type": "stream",
     "text": [
      "Creating database for GreenTF/upload-thunderstore-package...\n",
      "Analyzing GreenTF/upload-thunderstore-package...\n"
     ]
    },
    {
     "name": "stderr",
     "output_type": "stream",
     "text": [
      "Analyzing repositories:  11%|█         | 32/292 [28:15<3:44:12, 51.74s/it]"
     ]
    },
    {
     "name": "stdout",
     "output_type": "stream",
     "text": [
      "Creating database for HardNorth/github-version-generate...\n",
      "Analyzing HardNorth/github-version-generate...\n"
     ]
    },
    {
     "name": "stderr",
     "output_type": "stream",
     "text": [
      "Analyzing repositories:  11%|█▏        | 33/292 [29:08<3:45:26, 52.23s/it]"
     ]
    },
    {
     "name": "stdout",
     "output_type": "stream",
     "text": [
      "Creating database for HatsuneMiku3939/direnv-action...\n",
      "Analyzing HatsuneMiku3939/direnv-action...\n"
     ]
    },
    {
     "name": "stderr",
     "output_type": "stream",
     "text": [
      "Analyzing repositories:  12%|█▏        | 34/292 [30:07<3:53:17, 54.26s/it]"
     ]
    },
    {
     "name": "stdout",
     "output_type": "stream",
     "text": [
      "Creating database for JamesIves/github-pages-deploy-action...\n",
      "Analyzing JamesIves/github-pages-deploy-action...\n"
     ]
    },
    {
     "name": "stderr",
     "output_type": "stream",
     "text": [
      "Analyzing repositories:  12%|█▏        | 35/292 [30:49<3:36:18, 50.50s/it]"
     ]
    },
    {
     "name": "stdout",
     "output_type": "stream",
     "text": [
      "Creating database for JamesIves/fetch-api-data-action...\n",
      "Analyzing JamesIves/fetch-api-data-action...\n"
     ]
    },
    {
     "name": "stderr",
     "output_type": "stream",
     "text": [
      "Analyzing repositories:  12%|█▏        | 36/292 [31:29<3:22:41, 47.51s/it]"
     ]
    },
    {
     "name": "stdout",
     "output_type": "stream",
     "text": [
      "Creating database for JarvusInnovations/background-action...\n",
      "Analyzing JarvusInnovations/background-action...\n"
     ]
    },
    {
     "name": "stderr",
     "output_type": "stream",
     "text": [
      "Analyzing repositories:  13%|█▎        | 37/292 [32:10<3:12:44, 45.35s/it]"
     ]
    },
    {
     "name": "stdout",
     "output_type": "stream",
     "text": [
      "Creating database for JasonEtco/build-and-tag-action...\n",
      "Analyzing JasonEtco/build-and-tag-action...\n"
     ]
    },
    {
     "name": "stderr",
     "output_type": "stream",
     "text": [
      "Analyzing repositories:  13%|█▎        | 38/292 [32:50<3:05:55, 43.92s/it]"
     ]
    },
    {
     "name": "stdout",
     "output_type": "stream",
     "text": [
      "Creating database for JasonEtco/create-an-issue...\n",
      "Analyzing JasonEtco/create-an-issue...\n"
     ]
    },
    {
     "name": "stderr",
     "output_type": "stream",
     "text": [
      "Analyzing repositories:  13%|█▎        | 39/292 [33:31<3:00:51, 42.89s/it]"
     ]
    },
    {
     "name": "stdout",
     "output_type": "stream",
     "text": [
      "Creating database for JetBrains/qodana-action...\n",
      "Analyzing JetBrains/qodana-action...\n"
     ]
    },
    {
     "name": "stderr",
     "output_type": "stream",
     "text": [
      "Analyzing repositories:  14%|█▎        | 40/292 [35:03<4:02:53, 57.83s/it]"
     ]
    },
    {
     "name": "stdout",
     "output_type": "stream",
     "text": [
      "Creating database for JorelAli/setup-elm...\n",
      "Analyzing JorelAli/setup-elm...\n"
     ]
    },
    {
     "name": "stderr",
     "output_type": "stream",
     "text": [
      "Analyzing repositories:  14%|█▍        | 41/292 [35:43<3:38:58, 52.34s/it]"
     ]
    },
    {
     "name": "stdout",
     "output_type": "stream",
     "text": [
      "Creating database for Jtalk/url-health-check-action...\n",
      "Analyzing Jtalk/url-health-check-action...\n"
     ]
    },
    {
     "name": "stderr",
     "output_type": "stream",
     "text": [
      "Analyzing repositories:  14%|█▍        | 42/292 [36:25<3:25:43, 49.37s/it]"
     ]
    },
    {
     "name": "stdout",
     "output_type": "stream",
     "text": [
      "Creating database for JulienKode/team-labeler-action...\n",
      "Analyzing JulienKode/team-labeler-action...\n"
     ]
    },
    {
     "name": "stderr",
     "output_type": "stream",
     "text": [
      "Analyzing repositories:  15%|█▍        | 43/292 [37:12<3:21:59, 48.67s/it]"
     ]
    },
    {
     "name": "stdout",
     "output_type": "stream",
     "text": [
      "Creating database for KyleMayes/install-llvm-action...\n",
      "Analyzing KyleMayes/install-llvm-action...\n"
     ]
    },
    {
     "name": "stderr",
     "output_type": "stream",
     "text": [
      "Analyzing repositories:  15%|█▌        | 44/292 [38:02<3:22:30, 48.99s/it]"
     ]
    },
    {
     "name": "stdout",
     "output_type": "stream",
     "text": [
      "Creating database for Legion2/swagger-ui-action...\n",
      "Analyzing Legion2/swagger-ui-action...\n"
     ]
    },
    {
     "name": "stderr",
     "output_type": "stream",
     "text": [
      "Analyzing repositories:  15%|█▌        | 45/292 [38:49<3:19:18, 48.42s/it]"
     ]
    },
    {
     "name": "stdout",
     "output_type": "stream",
     "text": [
      "Creating database for LouisBrunner/checks-action...\n",
      "Analyzing LouisBrunner/checks-action...\n"
     ]
    },
    {
     "name": "stderr",
     "output_type": "stream",
     "text": [
      "Analyzing repositories:  16%|█▌        | 46/292 [39:39<3:19:37, 48.69s/it]"
     ]
    },
    {
     "name": "stdout",
     "output_type": "stream",
     "text": [
      "Creating database for LuisAlejandro/movie-box...\n",
      "Analyzing LuisAlejandro/movie-box...\n"
     ]
    },
    {
     "name": "stderr",
     "output_type": "stream",
     "text": [
      "Analyzing repositories:  16%|█▌        | 47/292 [40:24<3:14:42, 47.68s/it]"
     ]
    },
    {
     "name": "stdout",
     "output_type": "stream",
     "text": [
      "Creating database for MarkusJx/install-boost...\n",
      "Analyzing MarkusJx/install-boost...\n"
     ]
    },
    {
     "name": "stderr",
     "output_type": "stream",
     "text": [
      "Analyzing repositories:  16%|█▋        | 48/292 [41:37<3:45:20, 55.41s/it]"
     ]
    },
    {
     "name": "stdout",
     "output_type": "stream",
     "text": [
      "Creating database for Mastersam07/firebase-app-distribution-action...\n",
      "Analyzing Mastersam07/firebase-app-distribution-action...\n"
     ]
    },
    {
     "name": "stderr",
     "output_type": "stream",
     "text": [
      "Analyzing repositories:  17%|█▋        | 49/292 [42:33<3:45:08, 55.59s/it]"
     ]
    },
    {
     "name": "stdout",
     "output_type": "stream",
     "text": [
      "Creating database for MeilCli/npm-update-check-action...\n",
      "Analyzing MeilCli/npm-update-check-action...\n"
     ]
    },
    {
     "name": "stderr",
     "output_type": "stream",
     "text": [
      "Analyzing repositories:  17%|█▋        | 50/292 [43:15<3:27:22, 51.41s/it]"
     ]
    },
    {
     "name": "stdout",
     "output_type": "stream",
     "text": [
      "Creating database for MishaKav/pytest-coverage-comment...\n",
      "Analyzing MishaKav/pytest-coverage-comment...\n"
     ]
    },
    {
     "name": "stderr",
     "output_type": "stream",
     "text": [
      "Analyzing repositories:  17%|█▋        | 51/292 [44:02<3:21:07, 50.07s/it]"
     ]
    },
    {
     "name": "stdout",
     "output_type": "stream",
     "text": [
      "Creating database for MorrisonCole/pr-lint-action...\n",
      "Analyzing MorrisonCole/pr-lint-action...\n"
     ]
    },
    {
     "name": "stderr",
     "output_type": "stream",
     "text": [
      "Analyzing repositories:  18%|█▊        | 52/292 [44:46<3:13:02, 48.26s/it]"
     ]
    },
    {
     "name": "stdout",
     "output_type": "stream",
     "text": [
      "Creating database for Mozilla-Actions/sccache-action...\n",
      "Analyzing Mozilla-Actions/sccache-action...\n"
     ]
    },
    {
     "name": "stderr",
     "output_type": "stream",
     "text": [
      "Analyzing repositories:  18%|█▊        | 53/292 [45:34<3:11:38, 48.11s/it]"
     ]
    },
    {
     "name": "stdout",
     "output_type": "stream",
     "text": [
      "Creating database for OctopusDeploy/install-octopus-cli-action...\n",
      "Analyzing OctopusDeploy/install-octopus-cli-action...\n"
     ]
    },
    {
     "name": "stderr",
     "output_type": "stream",
     "text": [
      "Analyzing repositories:  18%|█▊        | 54/292 [46:11<2:57:31, 44.75s/it]"
     ]
    },
    {
     "name": "stdout",
     "output_type": "stream",
     "text": [
      "Creating database for ReactiveCircus/android-emulator-runner...\n",
      "Analyzing ReactiveCircus/android-emulator-runner...\n"
     ]
    },
    {
     "name": "stderr",
     "output_type": "stream",
     "text": [
      "Analyzing repositories:  19%|█▉        | 55/292 [46:46<2:45:34, 41.92s/it]"
     ]
    },
    {
     "name": "stdout",
     "output_type": "stream",
     "text": [
      "Creating database for Readme-Workflows/recent-activity...\n",
      "Analyzing Readme-Workflows/recent-activity...\n"
     ]
    },
    {
     "name": "stderr",
     "output_type": "stream",
     "text": [
      "Analyzing repositories:  19%|█▉        | 56/292 [47:31<2:48:15, 42.78s/it]"
     ]
    },
    {
     "name": "stdout",
     "output_type": "stream",
     "text": [
      "Creating database for Rebilly/lexi...\n",
      "Analyzing Rebilly/lexi...\n"
     ]
    },
    {
     "name": "stderr",
     "output_type": "stream",
     "text": [
      "Analyzing repositories:  20%|█▉        | 57/292 [48:20<2:55:37, 44.84s/it]"
     ]
    },
    {
     "name": "stdout",
     "output_type": "stream",
     "text": [
      "Creating database for Reedyuk/NPM-Version...\n",
      "Analyzing Reedyuk/NPM-Version...\n"
     ]
    },
    {
     "name": "stderr",
     "output_type": "stream",
     "text": [
      "Analyzing repositories:  20%|█▉        | 58/292 [48:54<2:41:35, 41.43s/it]"
     ]
    },
    {
     "name": "stdout",
     "output_type": "stream",
     "text": [
      "Creating database for Reggionick/s3-deploy...\n",
      "Analyzing Reggionick/s3-deploy...\n"
     ]
    },
    {
     "name": "stderr",
     "output_type": "stream",
     "text": [
      "Analyzing repositories:  20%|██        | 59/292 [49:28<2:32:28, 39.27s/it]"
     ]
    },
    {
     "name": "stdout",
     "output_type": "stream",
     "text": [
      "Creating database for Satak/webrequest-action...\n",
      "Analyzing Satak/webrequest-action...\n"
     ]
    },
    {
     "name": "stderr",
     "output_type": "stream",
     "text": [
      "Analyzing repositories:  21%|██        | 60/292 [50:10<2:34:46, 40.03s/it]"
     ]
    },
    {
     "name": "stdout",
     "output_type": "stream",
     "text": [
      "Creating database for ScribeMD/docker-cache...\n",
      "Analyzing ScribeMD/docker-cache...\n"
     ]
    },
    {
     "name": "stderr",
     "output_type": "stream",
     "text": [
      "Analyzing repositories:  21%|██        | 61/292 [51:25<3:14:35, 50.54s/it]"
     ]
    },
    {
     "name": "stdout",
     "output_type": "stream",
     "text": [
      "Creating database for SethCohen/github-releases-to-discord...\n",
      "Analyzing SethCohen/github-releases-to-discord...\n"
     ]
    },
    {
     "name": "stderr",
     "output_type": "stream",
     "text": [
      "Analyzing repositories:  21%|██        | 62/292 [51:59<2:55:05, 45.67s/it]"
     ]
    },
    {
     "name": "stdout",
     "output_type": "stream",
     "text": [
      "Creating database for SimonScholz/google-chat-action...\n",
      "Analyzing SimonScholz/google-chat-action...\n"
     ]
    },
    {
     "name": "stderr",
     "output_type": "stream",
     "text": [
      "Analyzing repositories:  22%|██▏       | 63/292 [52:42<2:50:34, 44.69s/it]"
     ]
    },
    {
     "name": "stdout",
     "output_type": "stream",
     "text": [
      "Creating database for SpectralOps/spectral-github-action...\n",
      "Analyzing SpectralOps/spectral-github-action...\n"
     ]
    },
    {
     "name": "stderr",
     "output_type": "stream",
     "text": [
      "Analyzing repositories:  22%|██▏       | 64/292 [53:16<2:37:35, 41.47s/it]"
     ]
    },
    {
     "name": "stdout",
     "output_type": "stream",
     "text": [
      "Creating database for SvanBoxel/zaproxy-to-ghas...\n",
      "Analyzing SvanBoxel/zaproxy-to-ghas...\n"
     ]
    },
    {
     "name": "stderr",
     "output_type": "stream",
     "text": [
      "Analyzing repositories:  22%|██▏       | 65/292 [53:54<2:33:17, 40.52s/it]"
     ]
    },
    {
     "name": "stdout",
     "output_type": "stream",
     "text": [
      "Creating database for TheMrMilchmann/setup-msvc-dev...\n",
      "Analyzing TheMrMilchmann/setup-msvc-dev...\n"
     ]
    },
    {
     "name": "stderr",
     "output_type": "stream",
     "text": [
      "Analyzing repositories:  23%|██▎       | 66/292 [54:34<2:32:27, 40.48s/it]"
     ]
    },
    {
     "name": "stdout",
     "output_type": "stream",
     "text": [
      "Creating database for TimDaub/hetzner-cloud-deploy-server-action...\n",
      "Analyzing TimDaub/hetzner-cloud-deploy-server-action...\n"
     ]
    },
    {
     "name": "stderr",
     "output_type": "stream",
     "text": [
      "Analyzing repositories:  23%|██▎       | 67/292 [55:10<2:25:54, 38.91s/it]"
     ]
    },
    {
     "name": "stdout",
     "output_type": "stream",
     "text": [
      "Creating database for TinkurLab/issue-labeler-action...\n",
      "Analyzing TinkurLab/issue-labeler-action...\n"
     ]
    },
    {
     "name": "stderr",
     "output_type": "stream",
     "text": [
      "Analyzing repositories:  23%|██▎       | 68/292 [55:44<2:20:18, 37.58s/it]"
     ]
    },
    {
     "name": "stdout",
     "output_type": "stream",
     "text": [
      "Creating database for TinkurLab/monorepo-pr-labeler-action...\n",
      "Analyzing TinkurLab/monorepo-pr-labeler-action...\n"
     ]
    },
    {
     "name": "stderr",
     "output_type": "stream",
     "text": [
      "Analyzing repositories:  24%|██▎       | 69/292 [56:22<2:19:53, 37.64s/it]"
     ]
    },
    {
     "name": "stdout",
     "output_type": "stream",
     "text": [
      "Creating database for TryGhost/action-deploy-theme...\n",
      "Analyzing TryGhost/action-deploy-theme...\n"
     ]
    },
    {
     "name": "stderr",
     "output_type": "stream",
     "text": [
      "Analyzing repositories:  24%|██▍       | 70/292 [57:07<2:27:41, 39.92s/it]"
     ]
    },
    {
     "name": "stdout",
     "output_type": "stream",
     "text": [
      "Creating database for Tyrrrz/action-http-request...\n",
      "Analyzing Tyrrrz/action-http-request...\n"
     ]
    },
    {
     "name": "stderr",
     "output_type": "stream",
     "text": [
      "Analyzing repositories:  24%|██▍       | 71/292 [57:42<2:21:50, 38.51s/it]"
     ]
    },
    {
     "name": "stdout",
     "output_type": "stream",
     "text": [
      "Creating database for Wandalen/wretry.action...\n",
      "Analyzing Wandalen/wretry.action...\n"
     ]
    },
    {
     "name": "stderr",
     "output_type": "stream",
     "text": [
      "Analyzing repositories:  25%|██▍       | 72/292 [58:11<2:10:55, 35.71s/it]"
     ]
    },
    {
     "name": "stdout",
     "output_type": "stream",
     "text": [
      "Creating database for YOCKOW/Action-setup-swift...\n",
      "Analyzing YOCKOW/Action-setup-swift...\n"
     ]
    },
    {
     "name": "stderr",
     "output_type": "stream",
     "text": [
      "Analyzing repositories:  25%|██▌       | 73/292 [58:47<2:09:59, 35.61s/it]"
     ]
    },
    {
     "name": "stdout",
     "output_type": "stream",
     "text": [
      "Creating database for Zqzqsb/MultiSourceSnake...\n",
      "Analyzing Zqzqsb/MultiSourceSnake...\n"
     ]
    },
    {
     "name": "stderr",
     "output_type": "stream",
     "text": [
      "Analyzing repositories:  25%|██▌       | 74/292 [59:27<2:14:05, 36.91s/it]"
     ]
    },
    {
     "name": "stdout",
     "output_type": "stream",
     "text": [
      "Creating database for aGallea/tests-coverage-report...\n",
      "Analyzing aGallea/tests-coverage-report...\n"
     ]
    },
    {
     "name": "stderr",
     "output_type": "stream",
     "text": [
      "Analyzing repositories:  26%|██▌       | 75/292 [1:00:09<2:19:41, 38.62s/it]"
     ]
    },
    {
     "name": "stdout",
     "output_type": "stream",
     "text": [
      "Creating database for abel0b/setup-premake...\n",
      "Analyzing abel0b/setup-premake...\n"
     ]
    },
    {
     "name": "stderr",
     "output_type": "stream",
     "text": [
      "Analyzing repositories:  26%|██▌       | 76/292 [1:00:43<2:13:58, 37.21s/it]"
     ]
    },
    {
     "name": "stdout",
     "output_type": "stream",
     "text": [
      "Creating database for abeyuya/actions-mention-to-slack...\n",
      "Analyzing abeyuya/actions-mention-to-slack...\n"
     ]
    },
    {
     "name": "stderr",
     "output_type": "stream",
     "text": [
      "Analyzing repositories:  26%|██▋       | 77/292 [1:01:19<2:11:50, 36.79s/it]"
     ]
    },
    {
     "name": "stdout",
     "output_type": "stream",
     "text": [
      "Creating database for abronin/ecr-retag-action...\n",
      "Analyzing abronin/ecr-retag-action...\n"
     ]
    },
    {
     "name": "stderr",
     "output_type": "stream",
     "text": [
      "Analyzing repositories:  27%|██▋       | 78/292 [1:02:07<2:22:52, 40.06s/it]"
     ]
    },
    {
     "name": "stdout",
     "output_type": "stream",
     "text": [
      "Creating database for antongolub/action-setup-bun...\n",
      "Analyzing antongolub/action-setup-bun...\n"
     ]
    },
    {
     "name": "stderr",
     "output_type": "stream",
     "text": [
      "Analyzing repositories:  27%|██▋       | 79/292 [1:03:19<2:56:08, 49.62s/it]"
     ]
    },
    {
     "name": "stdout",
     "output_type": "stream",
     "text": [
      "Creating database for apexskier/github-release-commenter...\n",
      "Analyzing apexskier/github-release-commenter...\n"
     ]
    },
    {
     "name": "stderr",
     "output_type": "stream",
     "text": [
      "Analyzing repositories:  27%|██▋       | 80/292 [1:03:54<2:39:48, 45.23s/it]"
     ]
    },
    {
     "name": "stdout",
     "output_type": "stream",
     "text": [
      "Creating database for aquiladev/ipfs-action...\n",
      "Analyzing aquiladev/ipfs-action...\n"
     ]
    },
    {
     "name": "stderr",
     "output_type": "stream",
     "text": [
      "Analyzing repositories:  28%|██▊       | 81/292 [1:05:04<3:05:40, 52.80s/it]"
     ]
    },
    {
     "name": "stdout",
     "output_type": "stream",
     "text": [
      "Creating database for ardalanamini/auto-changelog...\n",
      "Analyzing ardalanamini/auto-changelog...\n"
     ]
    },
    {
     "name": "stderr",
     "output_type": "stream",
     "text": [
      "Analyzing repositories:  28%|██▊       | 82/292 [1:05:48<2:55:32, 50.15s/it]"
     ]
    },
    {
     "name": "stdout",
     "output_type": "stream",
     "text": [
      "Creating database for arduino/arduino-lint-action...\n",
      "Analyzing arduino/arduino-lint-action...\n"
     ]
    },
    {
     "name": "stderr",
     "output_type": "stream",
     "text": [
      "Analyzing repositories:  28%|██▊       | 83/292 [1:06:29<2:44:48, 47.32s/it]"
     ]
    },
    {
     "name": "stdout",
     "output_type": "stream",
     "text": [
      "Creating database for arduino/setup-arduino-cli...\n",
      "Analyzing arduino/setup-arduino-cli...\n"
     ]
    },
    {
     "name": "stderr",
     "output_type": "stream",
     "text": [
      "Analyzing repositories:  29%|██▉       | 84/292 [1:07:13<2:40:40, 46.35s/it]"
     ]
    },
    {
     "name": "stdout",
     "output_type": "stream",
     "text": [
      "Creating database for ashutoshvarma/action-cmake-build...\n",
      "Analyzing ashutoshvarma/action-cmake-build...\n"
     ]
    },
    {
     "name": "stderr",
     "output_type": "stream",
     "text": [
      "Analyzing repositories:  29%|██▉       | 85/292 [1:07:47<2:27:07, 42.64s/it]"
     ]
    },
    {
     "name": "stdout",
     "output_type": "stream",
     "text": [
      "Creating database for ashutoshvarma/setup-ninja...\n",
      "Analyzing ashutoshvarma/setup-ninja...\n"
     ]
    },
    {
     "name": "stderr",
     "output_type": "stream",
     "text": [
      "Analyzing repositories:  29%|██▉       | 86/292 [1:08:33<2:29:39, 43.59s/it]"
     ]
    },
    {
     "name": "stdout",
     "output_type": "stream",
     "text": [
      "Creating database for aslafy-z/conventional-pr-title-action...\n",
      "Analyzing aslafy-z/conventional-pr-title-action...\n"
     ]
    },
    {
     "name": "stderr",
     "output_type": "stream",
     "text": [
      "Analyzing repositories:  30%|██▉       | 87/292 [1:09:06<2:18:02, 40.40s/it]"
     ]
    },
    {
     "name": "stdout",
     "output_type": "stream",
     "text": [
      "Creating database for astral-sh/setup-uv...\n",
      "Analyzing astral-sh/setup-uv...\n"
     ]
    },
    {
     "name": "stderr",
     "output_type": "stream",
     "text": [
      "Analyzing repositories:  30%|███       | 88/292 [1:10:30<3:01:41, 53.44s/it]"
     ]
    },
    {
     "name": "stdout",
     "output_type": "stream",
     "text": [
      "Creating database for atalent-labs/404-links...\n",
      "Analyzing atalent-labs/404-links...\n"
     ]
    },
    {
     "name": "stderr",
     "output_type": "stream",
     "text": [
      "Analyzing repositories:  30%|███       | 89/292 [1:11:03<2:40:06, 47.32s/it]"
     ]
    },
    {
     "name": "stdout",
     "output_type": "stream",
     "text": [
      "Creating database for atlassian/gajira-create...\n",
      "Analyzing atlassian/gajira-create...\n"
     ]
    },
    {
     "name": "stderr",
     "output_type": "stream",
     "text": [
      "Analyzing repositories:  31%|███       | 90/292 [1:11:43<2:32:15, 45.22s/it]"
     ]
    },
    {
     "name": "stdout",
     "output_type": "stream",
     "text": [
      "Creating database for auguwu/clippy-action...\n",
      "Analyzing auguwu/clippy-action...\n"
     ]
    },
    {
     "name": "stderr",
     "output_type": "stream",
     "text": [
      "Analyzing repositories:  31%|███       | 91/292 [1:12:23<2:26:21, 43.69s/it]"
     ]
    },
    {
     "name": "stdout",
     "output_type": "stream",
     "text": [
      "Creating database for autero1/action-terragrunt...\n",
      "Analyzing autero1/action-terragrunt...\n"
     ]
    },
    {
     "name": "stderr",
     "output_type": "stream",
     "text": [
      "Analyzing repositories:  32%|███▏      | 92/292 [1:12:59<2:18:00, 41.40s/it]"
     ]
    },
    {
     "name": "stdout",
     "output_type": "stream",
     "text": [
      "Creating database for aws-actions/aws-secretsmanager-get-secrets...\n",
      "Analyzing aws-actions/aws-secretsmanager-get-secrets...\n"
     ]
    },
    {
     "name": "stderr",
     "output_type": "stream",
     "text": [
      "Analyzing repositories:  32%|███▏      | 93/292 [1:14:23<2:59:28, 54.11s/it]"
     ]
    },
    {
     "name": "stdout",
     "output_type": "stream",
     "text": [
      "Creating database for aws-actions/amazon-ecs-render-task-definition...\n",
      "Analyzing aws-actions/amazon-ecs-render-task-definition...\n"
     ]
    },
    {
     "name": "stderr",
     "output_type": "stream",
     "text": [
      "Analyzing repositories:  32%|███▏      | 94/292 [1:15:09<2:50:50, 51.77s/it]"
     ]
    },
    {
     "name": "stdout",
     "output_type": "stream",
     "text": [
      "Creating database for aws-actions/amazon-ecr-login...\n",
      "Analyzing aws-actions/amazon-ecr-login...\n"
     ]
    },
    {
     "name": "stderr",
     "output_type": "stream",
     "text": [
      "Analyzing repositories:  33%|███▎      | 95/292 [1:16:05<2:53:31, 52.85s/it]"
     ]
    },
    {
     "name": "stdout",
     "output_type": "stream",
     "text": [
      "Creating database for balena-io/deploy-to-balena-action...\n",
      "Analyzing balena-io/deploy-to-balena-action...\n"
     ]
    },
    {
     "name": "stderr",
     "output_type": "stream",
     "text": [
      "Analyzing repositories:  33%|███▎      | 96/292 [1:17:03<2:58:29, 54.64s/it]"
     ]
    },
    {
     "name": "stdout",
     "output_type": "stream",
     "text": [
      "Creating database for batista/lint-filenames...\n",
      "Analyzing batista/lint-filenames...\n"
     ]
    },
    {
     "name": "stderr",
     "output_type": "stream",
     "text": [
      "Analyzing repositories:  33%|███▎      | 97/292 [1:18:15<3:13:51, 59.65s/it]"
     ]
    },
    {
     "name": "stdout",
     "output_type": "stream",
     "text": [
      "Creating database for bazelbuild/setup-bazelisk...\n",
      "Analyzing bazelbuild/setup-bazelisk...\n"
     ]
    },
    {
     "name": "stderr",
     "output_type": "stream",
     "text": [
      "Analyzing repositories:  34%|███▎      | 98/292 [1:19:15<3:13:50, 59.95s/it]"
     ]
    },
    {
     "name": "stdout",
     "output_type": "stream",
     "text": [
      "Creating database for benc-uk/workflow-dispatch...\n",
      "Analyzing benc-uk/workflow-dispatch...\n"
     ]
    },
    {
     "name": "stderr",
     "output_type": "stream",
     "text": [
      "Analyzing repositories:  34%|███▍      | 99/292 [1:19:58<2:56:07, 54.76s/it]"
     ]
    },
    {
     "name": "stdout",
     "output_type": "stream",
     "text": [
      "Creating database for benchmark-action/github-action-benchmark...\n",
      "Analyzing benchmark-action/github-action-benchmark...\n"
     ]
    },
    {
     "name": "stderr",
     "output_type": "stream",
     "text": [
      "Analyzing repositories:  34%|███▍      | 100/292 [1:20:35<2:38:36, 49.57s/it]"
     ]
    },
    {
     "name": "stdout",
     "output_type": "stream",
     "text": [
      "Creating database for biomejs/setup-biome...\n",
      "Analyzing biomejs/setup-biome...\n"
     ]
    },
    {
     "name": "stderr",
     "output_type": "stream",
     "text": [
      "Analyzing repositories:  35%|███▍      | 101/292 [1:21:21<2:33:51, 48.33s/it]"
     ]
    },
    {
     "name": "stdout",
     "output_type": "stream",
     "text": [
      "Creating database for blombard/move-to-next-iteration...\n",
      "Analyzing blombard/move-to-next-iteration...\n"
     ]
    },
    {
     "name": "stderr",
     "output_type": "stream",
     "text": [
      "Analyzing repositories:  35%|███▍      | 102/292 [1:22:02<2:25:56, 46.09s/it]"
     ]
    },
    {
     "name": "stdout",
     "output_type": "stream",
     "text": [
      "Creating database for bobheadxi/deployments...\n",
      "Analyzing bobheadxi/deployments...\n"
     ]
    },
    {
     "name": "stderr",
     "output_type": "stream",
     "text": [
      "Analyzing repositories:  35%|███▌      | 103/292 [1:22:41<2:18:40, 44.02s/it]"
     ]
    },
    {
     "name": "stdout",
     "output_type": "stream",
     "text": [
      "Creating database for borchero/terraform-plan-comment...\n",
      "Analyzing borchero/terraform-plan-comment...\n"
     ]
    },
    {
     "name": "stderr",
     "output_type": "stream",
     "text": [
      "Analyzing repositories:  36%|███▌      | 104/292 [1:23:27<2:19:31, 44.53s/it]"
     ]
    },
    {
     "name": "stdout",
     "output_type": "stream",
     "text": [
      "Creating database for brown-ccv/alex-recommends...\n",
      "Analyzing brown-ccv/alex-recommends...\n"
     ]
    },
    {
     "name": "stderr",
     "output_type": "stream",
     "text": [
      "Analyzing repositories:  36%|███▌      | 105/292 [1:24:16<2:22:57, 45.87s/it]"
     ]
    },
    {
     "name": "stdout",
     "output_type": "stream",
     "text": [
      "Creating database for chf007/action-wechat-work...\n",
      "Analyzing chf007/action-wechat-work...\n"
     ]
    },
    {
     "name": "stderr",
     "output_type": "stream",
     "text": [
      "Analyzing repositories:  36%|███▋      | 106/292 [1:24:52<2:13:20, 43.02s/it]"
     ]
    },
    {
     "name": "stdout",
     "output_type": "stream",
     "text": [
      "Creating database for chrisdickinson/setup-yq...\n",
      "Analyzing chrisdickinson/setup-yq...\n"
     ]
    },
    {
     "name": "stderr",
     "output_type": "stream",
     "text": [
      "Analyzing repositories:  37%|███▋      | 107/292 [1:25:28<2:06:12, 40.93s/it]"
     ]
    },
    {
     "name": "stdout",
     "output_type": "stream",
     "text": [
      "Creating database for cloudflare/pages-action...\n",
      "Analyzing cloudflare/pages-action...\n"
     ]
    },
    {
     "name": "stderr",
     "output_type": "stream",
     "text": [
      "Analyzing repositories:  37%|███▋      | 108/292 [1:26:12<2:08:40, 41.96s/it]"
     ]
    },
    {
     "name": "stdout",
     "output_type": "stream",
     "text": [
      "Creating database for codfish/semantic-release-action...\n",
      "Analyzing codfish/semantic-release-action...\n"
     ]
    },
    {
     "name": "stderr",
     "output_type": "stream",
     "text": [
      "Analyzing repositories:  37%|███▋      | 109/292 [1:26:46<2:00:36, 39.55s/it]"
     ]
    },
    {
     "name": "stdout",
     "output_type": "stream",
     "text": [
      "Creating database for corymhall/cdk-diff-action...\n",
      "Analyzing corymhall/cdk-diff-action...\n"
     ]
    },
    {
     "name": "stderr",
     "output_type": "stream",
     "text": [
      "Analyzing repositories:  38%|███▊      | 110/292 [1:27:49<2:20:48, 46.42s/it]"
     ]
    },
    {
     "name": "stdout",
     "output_type": "stream",
     "text": [
      "Creating database for crazy-max/ghaction-upx...\n",
      "Analyzing crazy-max/ghaction-upx...\n"
     ]
    },
    {
     "name": "stderr",
     "output_type": "stream",
     "text": [
      "Analyzing repositories:  38%|███▊      | 111/292 [1:28:33<2:17:52, 45.70s/it]"
     ]
    },
    {
     "name": "stdout",
     "output_type": "stream",
     "text": [
      "Creating database for crazy-max/ghaction-import-gpg...\n",
      "Analyzing crazy-max/ghaction-import-gpg...\n"
     ]
    },
    {
     "name": "stderr",
     "output_type": "stream",
     "text": [
      "Analyzing repositories:  38%|███▊      | 112/292 [1:29:22<2:19:52, 46.63s/it]"
     ]
    },
    {
     "name": "stdout",
     "output_type": "stream",
     "text": [
      "Creating database for crazy-max/ghaction-setup-containerd...\n",
      "Analyzing crazy-max/ghaction-setup-containerd...\n"
     ]
    },
    {
     "name": "stderr",
     "output_type": "stream",
     "text": [
      "Analyzing repositories:  39%|███▊      | 113/292 [1:30:06<2:17:13, 46.00s/it]"
     ]
    },
    {
     "name": "stdout",
     "output_type": "stream",
     "text": [
      "Creating database for crazyurus/miniprogram-action...\n",
      "Analyzing crazyurus/miniprogram-action...\n"
     ]
    },
    {
     "name": "stderr",
     "output_type": "stream",
     "text": [
      "Analyzing repositories:  39%|███▉      | 114/292 [1:30:42<2:07:24, 42.94s/it]"
     ]
    },
    {
     "name": "stdout",
     "output_type": "stream",
     "text": [
      "Creating database for dailydotdev/action-devcard...\n",
      "Analyzing dailydotdev/action-devcard...\n"
     ]
    },
    {
     "name": "stderr",
     "output_type": "stream",
     "text": [
      "Analyzing repositories:  39%|███▉      | 115/292 [1:31:27<2:08:11, 43.46s/it]"
     ]
    },
    {
     "name": "stdout",
     "output_type": "stream",
     "text": [
      "Creating database for danielpalme/ReportGenerator-GitHub-Action...\n",
      "Analyzing danielpalme/ReportGenerator-GitHub-Action...\n"
     ]
    },
    {
     "name": "stderr",
     "output_type": "stream",
     "text": [
      "Analyzing repositories:  40%|███▉      | 116/292 [1:32:06<2:04:01, 42.28s/it]"
     ]
    },
    {
     "name": "stdout",
     "output_type": "stream",
     "text": [
      "Creating database for darenm/Setup-VSTest...\n",
      "Analyzing darenm/Setup-VSTest...\n"
     ]
    },
    {
     "name": "stderr",
     "output_type": "stream",
     "text": [
      "Analyzing repositories:  40%|████      | 117/292 [1:32:43<1:58:08, 40.50s/it]"
     ]
    },
    {
     "name": "stdout",
     "output_type": "stream",
     "text": [
      "Creating database for dataaxiom/ghcr-cleanup-action...\n",
      "Analyzing dataaxiom/ghcr-cleanup-action...\n"
     ]
    },
    {
     "name": "stderr",
     "output_type": "stream",
     "text": [
      "Analyzing repositories:  40%|████      | 118/292 [1:33:41<2:13:24, 46.01s/it]"
     ]
    },
    {
     "name": "stdout",
     "output_type": "stream",
     "text": [
      "Creating database for davelosert/vitest-coverage-report-action...\n",
      "Analyzing davelosert/vitest-coverage-report-action...\n"
     ]
    },
    {
     "name": "stderr",
     "output_type": "stream",
     "text": [
      "Analyzing repositories:  41%|████      | 119/292 [1:34:24<2:09:22, 44.87s/it]"
     ]
    },
    {
     "name": "stdout",
     "output_type": "stream",
     "text": [
      "Creating database for davidB/rust-cargo-make...\n",
      "Analyzing davidB/rust-cargo-make...\n"
     ]
    },
    {
     "name": "stderr",
     "output_type": "stream",
     "text": [
      "Analyzing repositories:  41%|████      | 120/292 [1:35:03<2:03:36, 43.12s/it]"
     ]
    },
    {
     "name": "stdout",
     "output_type": "stream",
     "text": [
      "Creating database for dawidd6/action-ansible-playbook...\n",
      "Analyzing dawidd6/action-ansible-playbook...\n"
     ]
    },
    {
     "name": "stderr",
     "output_type": "stream",
     "text": [
      "Analyzing repositories:  41%|████▏     | 121/292 [1:35:36<1:54:28, 40.17s/it]"
     ]
    },
    {
     "name": "stdout",
     "output_type": "stream",
     "text": [
      "Creating database for de-vri-es/setup-git-credentials...\n",
      "Analyzing de-vri-es/setup-git-credentials...\n"
     ]
    },
    {
     "name": "stderr",
     "output_type": "stream",
     "text": [
      "Analyzing repositories:  42%|████▏     | 122/292 [1:36:10<1:48:15, 38.21s/it]"
     ]
    },
    {
     "name": "stdout",
     "output_type": "stream",
     "text": [
      "Creating database for descope/assume-aws-role-from-gcp-action...\n",
      "Analyzing descope/assume-aws-role-from-gcp-action...\n"
     ]
    },
    {
     "name": "stderr",
     "output_type": "stream",
     "text": [
      "Analyzing repositories:  42%|████▏     | 123/292 [1:36:44<1:44:30, 37.11s/it]"
     ]
    },
    {
     "name": "stdout",
     "output_type": "stream",
     "text": [
      "Creating database for dessant/lock-threads...\n",
      "Analyzing dessant/lock-threads...\n"
     ]
    },
    {
     "name": "stderr",
     "output_type": "stream",
     "text": [
      "Analyzing repositories:  42%|████▏     | 124/292 [1:37:52<2:09:57, 46.41s/it]"
     ]
    },
    {
     "name": "stdout",
     "output_type": "stream",
     "text": [
      "Creating database for devops-actions/json-to-file...\n",
      "Analyzing devops-actions/json-to-file...\n"
     ]
    },
    {
     "name": "stderr",
     "output_type": "stream",
     "text": [
      "Analyzing repositories:  43%|████▎     | 125/292 [1:38:58<2:25:28, 52.26s/it]"
     ]
    },
    {
     "name": "stdout",
     "output_type": "stream",
     "text": [
      "Creating database for dhall-lang/setup-dhall...\n",
      "Analyzing dhall-lang/setup-dhall...\n"
     ]
    },
    {
     "name": "stderr",
     "output_type": "stream",
     "text": [
      "Analyzing repositories:  43%|████▎     | 126/292 [1:39:32<2:09:13, 46.71s/it]"
     ]
    },
    {
     "name": "stdout",
     "output_type": "stream",
     "text": [
      "Creating database for di-sukharev/opencommit...\n",
      "Analyzing di-sukharev/opencommit...\n"
     ]
    },
    {
     "name": "stderr",
     "output_type": "stream",
     "text": [
      "Analyzing repositories:  43%|████▎     | 127/292 [1:41:00<2:42:32, 59.11s/it]"
     ]
    },
    {
     "name": "stdout",
     "output_type": "stream",
     "text": [
      "Creating database for dineshsonachalam/markdown-autodocs...\n",
      "Analyzing dineshsonachalam/markdown-autodocs...\n"
     ]
    },
    {
     "name": "stderr",
     "output_type": "stream",
     "text": [
      "Analyzing repositories:  44%|████▍     | 128/292 [1:41:34<2:21:26, 51.75s/it]"
     ]
    },
    {
     "name": "stdout",
     "output_type": "stream",
     "text": [
      "Creating database for dkershner6/jest-coverage-commenter-action...\n",
      "Analyzing dkershner6/jest-coverage-commenter-action...\n"
     ]
    },
    {
     "name": "stderr",
     "output_type": "stream",
     "text": [
      "Analyzing repositories:  44%|████▍     | 129/292 [1:42:20<2:15:55, 50.03s/it]"
     ]
    },
    {
     "name": "stdout",
     "output_type": "stream",
     "text": [
      "Creating database for dkershner6/aws-ssm-getparameters-action...\n",
      "Analyzing dkershner6/aws-ssm-getparameters-action...\n"
     ]
    },
    {
     "name": "stderr",
     "output_type": "stream",
     "text": [
      "Analyzing repositories:  45%|████▍     | 130/292 [1:43:18<2:20:51, 52.17s/it]"
     ]
    },
    {
     "name": "stdout",
     "output_type": "stream",
     "text": [
      "Creating database for dlemstra/code-sign-action...\n",
      "Analyzing dlemstra/code-sign-action...\n"
     ]
    },
    {
     "name": "stderr",
     "output_type": "stream",
     "text": [
      "Analyzing repositories:  45%|████▍     | 131/292 [1:43:54<2:06:51, 47.28s/it]"
     ]
    },
    {
     "name": "stdout",
     "output_type": "stream",
     "text": [
      "Creating database for docker/setup-buildx-action...\n",
      "Analyzing docker/setup-buildx-action...\n"
     ]
    },
    {
     "name": "stderr",
     "output_type": "stream",
     "text": [
      "Analyzing repositories:  45%|████▌     | 132/292 [1:44:47<2:11:12, 49.20s/it]"
     ]
    },
    {
     "name": "stdout",
     "output_type": "stream",
     "text": [
      "Creating database for docker-practice/actions-setup-docker...\n",
      "Analyzing docker-practice/actions-setup-docker...\n"
     ]
    },
    {
     "name": "stderr",
     "output_type": "stream",
     "text": [
      "Analyzing repositories:  46%|████▌     | 133/292 [1:45:22<1:58:35, 44.75s/it]"
     ]
    },
    {
     "name": "stdout",
     "output_type": "stream",
     "text": [
      "Creating database for dorny/test-reporter...\n",
      "Analyzing dorny/test-reporter...\n"
     ]
    },
    {
     "name": "stderr",
     "output_type": "stream",
     "text": [
      "Analyzing repositories:  46%|████▌     | 134/292 [1:46:17<2:06:12, 47.93s/it]"
     ]
    },
    {
     "name": "stdout",
     "output_type": "stream",
     "text": [
      "Creating database for dotnet/nbgv...\n",
      "Analyzing dotnet/nbgv...\n"
     ]
    },
    {
     "name": "stderr",
     "output_type": "stream",
     "text": [
      "Analyzing repositories:  46%|████▌     | 135/292 [1:47:00<2:01:32, 46.45s/it]"
     ]
    },
    {
     "name": "stdout",
     "output_type": "stream",
     "text": [
      "Creating database for dromara/issues-translate-action...\n",
      "Analyzing dromara/issues-translate-action...\n"
     ]
    },
    {
     "name": "stderr",
     "output_type": "stream",
     "text": [
      "Analyzing repositories:  47%|████▋     | 136/292 [1:47:41<1:56:42, 44.89s/it]"
     ]
    },
    {
     "name": "stdout",
     "output_type": "stream",
     "text": [
      "Creating database for dynatrace-oss/dynatrace-github-action...\n",
      "Analyzing dynatrace-oss/dynatrace-github-action...\n"
     ]
    },
    {
     "name": "stderr",
     "output_type": "stream",
     "text": [
      "Analyzing repositories:  47%|████▋     | 137/292 [1:48:25<1:55:00, 44.52s/it]"
     ]
    },
    {
     "name": "stdout",
     "output_type": "stream",
     "text": [
      "Creating database for ecomplus/cloud-commerce...\n",
      "Analyzing ecomplus/cloud-commerce...\n"
     ]
    },
    {
     "name": "stderr",
     "output_type": "stream",
     "text": [
      "Analyzing repositories:  47%|████▋     | 138/292 [1:49:27<2:07:49, 49.80s/it]"
     ]
    },
    {
     "name": "stdout",
     "output_type": "stream",
     "text": [
      "Creating database for editorconfig-checker/action-editorconfig-checker...\n",
      "Analyzing editorconfig-checker/action-editorconfig-checker...\n"
     ]
    },
    {
     "name": "stderr",
     "output_type": "stream",
     "text": [
      "Analyzing repositories:  48%|████▊     | 139/292 [1:50:11<2:02:23, 48.00s/it]"
     ]
    },
    {
     "name": "stdout",
     "output_type": "stream",
     "text": [
      "Creating database for einaregilsson/beanstalk-deploy...\n",
      "Analyzing einaregilsson/beanstalk-deploy...\n"
     ]
    },
    {
     "name": "stderr",
     "output_type": "stream",
     "text": [
      "Analyzing repositories:  48%|████▊     | 140/292 [1:50:46<1:52:15, 44.31s/it]"
     ]
    },
    {
     "name": "stdout",
     "output_type": "stream",
     "text": [
      "Creating database for endorlabs/github-action...\n",
      "Analyzing endorlabs/github-action...\n"
     ]
    },
    {
     "name": "stderr",
     "output_type": "stream",
     "text": [
      "Analyzing repositories:  48%|████▊     | 141/292 [1:52:20<2:28:31, 59.02s/it]"
     ]
    },
    {
     "name": "stdout",
     "output_type": "stream",
     "text": [
      "Creating database for eregon/publish-release...\n",
      "Analyzing eregon/publish-release...\n"
     ]
    },
    {
     "name": "stderr",
     "output_type": "stream",
     "text": [
      "Analyzing repositories:  49%|████▊     | 142/292 [1:53:00<2:13:24, 53.37s/it]"
     ]
    },
    {
     "name": "stdout",
     "output_type": "stream",
     "text": [
      "Creating database for errata-ai/vale-action...\n",
      "Analyzing errata-ai/vale-action...\n"
     ]
    },
    {
     "name": "stderr",
     "output_type": "stream",
     "text": [
      "Analyzing repositories:  49%|████▉     | 143/292 [1:53:37<2:00:24, 48.49s/it]"
     ]
    },
    {
     "name": "stdout",
     "output_type": "stream",
     "text": [
      "Creating database for exercism/pr-commenter-action...\n",
      "Analyzing exercism/pr-commenter-action...\n"
     ]
    },
    {
     "name": "stderr",
     "output_type": "stream",
     "text": [
      "Analyzing repositories:  49%|████▉     | 144/292 [1:54:18<1:54:22, 46.37s/it]"
     ]
    },
    {
     "name": "stdout",
     "output_type": "stream",
     "text": [
      "Creating database for expo/expo-github-action...\n",
      "Analyzing expo/expo-github-action...\n"
     ]
    },
    {
     "name": "stderr",
     "output_type": "stream",
     "text": [
      "Analyzing repositories:  50%|████▉     | 145/292 [1:57:14<3:28:26, 85.08s/it]"
     ]
    },
    {
     "name": "stdout",
     "output_type": "stream",
     "text": [
      "Creating database for fabasoad/twilio-voice-call-action...\n",
      "Analyzing fabasoad/twilio-voice-call-action...\n"
     ]
    },
    {
     "name": "stderr",
     "output_type": "stream",
     "text": [
      "Analyzing repositories:  50%|█████     | 146/292 [1:58:38<3:26:03, 84.68s/it]"
     ]
    },
    {
     "name": "stdout",
     "output_type": "stream",
     "text": [
      "Creating database for fjogeleit/yaml-update-action...\n",
      "Analyzing fjogeleit/yaml-update-action...\n"
     ]
    },
    {
     "name": "stderr",
     "output_type": "stream",
     "text": [
      "Analyzing repositories:  50%|█████     | 147/292 [1:59:28<2:59:46, 74.39s/it]"
     ]
    },
    {
     "name": "stdout",
     "output_type": "stream",
     "text": [
      "Creating database for forcedotcom/run-code-analyzer...\n",
      "Analyzing forcedotcom/run-code-analyzer...\n"
     ]
    },
    {
     "name": "stderr",
     "output_type": "stream",
     "text": [
      "Analyzing repositories:  51%|█████     | 148/292 [2:00:30<2:49:25, 70.59s/it]"
     ]
    },
    {
     "name": "stdout",
     "output_type": "stream",
     "text": [
      "Creating database for fpicalausa/remove-stale-branches...\n",
      "Analyzing fpicalausa/remove-stale-branches...\n"
     ]
    },
    {
     "name": "stderr",
     "output_type": "stream",
     "text": [
      "Analyzing repositories:  51%|█████     | 149/292 [2:01:18<2:31:58, 63.77s/it]"
     ]
    },
    {
     "name": "stdout",
     "output_type": "stream",
     "text": [
      "Creating database for frictionlessdata/frictionless-ci...\n",
      "Analyzing frictionlessdata/frictionless-ci...\n"
     ]
    },
    {
     "name": "stderr",
     "output_type": "stream",
     "text": [
      "Analyzing repositories:  51%|█████▏    | 150/292 [2:01:57<2:13:17, 56.32s/it]"
     ]
    },
    {
     "name": "stdout",
     "output_type": "stream",
     "text": [
      "Creating database for fwilhe2/setup-kotlin...\n",
      "Analyzing fwilhe2/setup-kotlin...\n"
     ]
    },
    {
     "name": "stderr",
     "output_type": "stream",
     "text": [
      "Analyzing repositories:  52%|█████▏    | 151/292 [2:02:46<2:07:37, 54.31s/it]"
     ]
    },
    {
     "name": "stdout",
     "output_type": "stream",
     "text": [
      "Creating database for gabrielfalcao/pyenv-action...\n",
      "Analyzing gabrielfalcao/pyenv-action...\n"
     ]
    },
    {
     "name": "stderr",
     "output_type": "stream",
     "text": [
      "Analyzing repositories:  52%|█████▏    | 152/292 [2:03:33<2:01:45, 52.18s/it]"
     ]
    },
    {
     "name": "stdout",
     "output_type": "stream",
     "text": [
      "Creating database for gagoar/codeowners-generator...\n",
      "Analyzing gagoar/codeowners-generator...\n"
     ]
    },
    {
     "name": "stderr",
     "output_type": "stream",
     "text": [
      "Analyzing repositories:  52%|█████▏    | 153/292 [2:04:14<1:53:04, 48.81s/it]"
     ]
    },
    {
     "name": "stdout",
     "output_type": "stream",
     "text": [
      "Creating database for game-ci/unity-builder...\n",
      "Analyzing game-ci/unity-builder...\n"
     ]
    },
    {
     "name": "stderr",
     "output_type": "stream",
     "text": [
      "Analyzing repositories:  53%|█████▎    | 154/292 [2:05:01<1:50:41, 48.13s/it]"
     ]
    },
    {
     "name": "stdout",
     "output_type": "stream",
     "text": [
      "Creating database for gautamkrishnar/keepalive-workflow...\n",
      "Analyzing gautamkrishnar/keepalive-workflow...\n"
     ]
    },
    {
     "name": "stderr",
     "output_type": "stream",
     "text": [
      "Analyzing repositories:  53%|█████▎    | 155/292 [2:05:50<1:50:44, 48.50s/it]"
     ]
    },
    {
     "name": "stdout",
     "output_type": "stream",
     "text": [
      "Creating database for getong/mariadb-action...\n",
      "Analyzing getong/mariadb-action...\n"
     ]
    },
    {
     "name": "stderr",
     "output_type": "stream",
     "text": [
      "Analyzing repositories:  53%|█████▎    | 156/292 [2:06:30<1:43:50, 45.81s/it]"
     ]
    },
    {
     "name": "stdout",
     "output_type": "stream",
     "text": [
      "Creating database for github/accessibility-alt-text-bot...\n",
      "Analyzing github/accessibility-alt-text-bot...\n"
     ]
    },
    {
     "name": "stderr",
     "output_type": "stream",
     "text": [
      "Analyzing repositories:  54%|█████▍    | 157/292 [2:07:10<1:39:35, 44.27s/it]"
     ]
    },
    {
     "name": "stdout",
     "output_type": "stream",
     "text": [
      "Creating database for github/command...\n",
      "Analyzing github/command...\n"
     ]
    },
    {
     "name": "stderr",
     "output_type": "stream",
     "text": [
      "Analyzing repositories:  54%|█████▍    | 158/292 [2:08:02<1:43:50, 46.50s/it]"
     ]
    },
    {
     "name": "stdout",
     "output_type": "stream",
     "text": [
      "Creating database for github/combine-prs...\n",
      "Analyzing github/combine-prs...\n"
     ]
    },
    {
     "name": "stderr",
     "output_type": "stream",
     "text": [
      "Analyzing repositories:  54%|█████▍    | 159/292 [2:08:53<1:45:57, 47.80s/it]"
     ]
    },
    {
     "name": "stdout",
     "output_type": "stream",
     "text": [
      "Creating database for github/branch-deploy...\n",
      "Analyzing github/branch-deploy...\n"
     ]
    },
    {
     "name": "stderr",
     "output_type": "stream",
     "text": [
      "Analyzing repositories:  55%|█████▍    | 160/292 [2:09:52<1:52:54, 51.32s/it]"
     ]
    },
    {
     "name": "stdout",
     "output_type": "stream",
     "text": [
      "Creating database for google-github-actions/get-gke-credentials...\n",
      "Analyzing google-github-actions/get-gke-credentials...\n"
     ]
    },
    {
     "name": "stderr",
     "output_type": "stream",
     "text": [
      "Analyzing repositories:  55%|█████▌    | 161/292 [2:10:52<1:57:42, 53.91s/it]"
     ]
    },
    {
     "name": "stdout",
     "output_type": "stream",
     "text": [
      "Creating database for google-github-actions/upload-cloud-storage...\n",
      "Analyzing google-github-actions/upload-cloud-storage...\n"
     ]
    },
    {
     "name": "stderr",
     "output_type": "stream",
     "text": [
      "Analyzing repositories:  55%|█████▌    | 162/292 [2:11:59<2:05:06, 57.74s/it]"
     ]
    },
    {
     "name": "stdout",
     "output_type": "stream",
     "text": [
      "Creating database for google-github-actions/deploy-cloudrun...\n",
      "Analyzing google-github-actions/deploy-cloudrun...\n"
     ]
    },
    {
     "name": "stderr",
     "output_type": "stream",
     "text": [
      "Analyzing repositories:  56%|█████▌    | 163/292 [2:13:05<2:09:30, 60.24s/it]"
     ]
    },
    {
     "name": "stdout",
     "output_type": "stream",
     "text": [
      "Creating database for grassedge/git-pr-release-action...\n",
      "Analyzing grassedge/git-pr-release-action...\n"
     ]
    },
    {
     "name": "stderr",
     "output_type": "stream",
     "text": [
      "Analyzing repositories:  56%|█████▌    | 164/292 [2:13:52<1:59:50, 56.18s/it]"
     ]
    },
    {
     "name": "stdout",
     "output_type": "stream",
     "text": [
      "Creating database for h5bp/server-configs-test...\n",
      "Analyzing h5bp/server-configs-test...\n"
     ]
    },
    {
     "name": "stderr",
     "output_type": "stream",
     "text": [
      "Analyzing repositories:  57%|█████▋    | 165/292 [2:14:32<1:48:59, 51.49s/it]"
     ]
    },
    {
     "name": "stdout",
     "output_type": "stream",
     "text": [
      "Creating database for jimmygchen/runner-fallback-action...\n",
      "Analyzing jimmygchen/runner-fallback-action...\n"
     ]
    },
    {
     "name": "stderr",
     "output_type": "stream",
     "text": [
      "Analyzing repositories:  57%|█████▋    | 166/292 [2:15:15<1:42:46, 48.94s/it]"
     ]
    },
    {
     "name": "stdout",
     "output_type": "stream",
     "text": [
      "Creating database for jitterbit/get-changed-files...\n",
      "Analyzing jitterbit/get-changed-files...\n"
     ]
    },
    {
     "name": "stderr",
     "output_type": "stream",
     "text": [
      "Analyzing repositories:  57%|█████▋    | 167/292 [2:16:01<1:40:03, 48.02s/it]"
     ]
    },
    {
     "name": "stdout",
     "output_type": "stream",
     "text": [
      "Creating database for joao-zanutto/get-selected...\n",
      "Analyzing joao-zanutto/get-selected...\n"
     ]
    },
    {
     "name": "stderr",
     "output_type": "stream",
     "text": [
      "Analyzing repositories:  58%|█████▊    | 168/292 [2:16:51<1:40:08, 48.45s/it]"
     ]
    },
    {
     "name": "stdout",
     "output_type": "stream",
     "text": [
      "Creating database for jontze/action-mdbook...\n",
      "Analyzing jontze/action-mdbook...\n"
     ]
    },
    {
     "name": "stderr",
     "output_type": "stream",
     "text": [
      "Analyzing repositories:  58%|█████▊    | 169/292 [2:17:44<1:42:31, 50.02s/it]"
     ]
    },
    {
     "name": "stdout",
     "output_type": "stream",
     "text": [
      "Creating database for jpb06/jest-badges-action...\n",
      "Analyzing jpb06/jest-badges-action...\n"
     ]
    },
    {
     "name": "stderr",
     "output_type": "stream",
     "text": [
      "Analyzing repositories:  58%|█████▊    | 170/292 [2:19:01<1:57:42, 57.89s/it]"
     ]
    },
    {
     "name": "stdout",
     "output_type": "stream",
     "text": [
      "Creating database for julia-actions/install-juliaup...\n",
      "Analyzing julia-actions/install-juliaup...\n"
     ]
    },
    {
     "name": "stderr",
     "output_type": "stream",
     "text": [
      "Analyzing repositories:  59%|█████▊    | 171/292 [2:19:51<1:52:00, 55.54s/it]"
     ]
    },
    {
     "name": "stdout",
     "output_type": "stream",
     "text": [
      "Creating database for julia-actions/RegisterAction...\n",
      "Analyzing julia-actions/RegisterAction...\n"
     ]
    },
    {
     "name": "stderr",
     "output_type": "stream",
     "text": [
      "Analyzing repositories:  59%|█████▉    | 172/292 [2:20:31<1:41:36, 50.80s/it]"
     ]
    },
    {
     "name": "stdout",
     "output_type": "stream",
     "text": [
      "Creating database for jwgmeligmeyling/pmd-github-action...\n",
      "Analyzing jwgmeligmeyling/pmd-github-action...\n"
     ]
    },
    {
     "name": "stderr",
     "output_type": "stream",
     "text": [
      "Analyzing repositories:  59%|█████▉    | 173/292 [2:21:19<1:39:12, 50.02s/it]"
     ]
    },
    {
     "name": "stdout",
     "output_type": "stream",
     "text": [
      "Creating database for kamilkisiela/bob...\n",
      "Analyzing kamilkisiela/bob...\n"
     ]
    },
    {
     "name": "stderr",
     "output_type": "stream",
     "text": [
      "Analyzing repositories:  60%|█████▉    | 174/292 [2:22:01<1:34:02, 47.82s/it]"
     ]
    },
    {
     "name": "stdout",
     "output_type": "stream",
     "text": [
      "Creating database for kanadgupta/glitch-sync...\n",
      "Analyzing kanadgupta/glitch-sync...\n"
     ]
    },
    {
     "name": "stderr",
     "output_type": "stream",
     "text": [
      "Analyzing repositories:  60%|█████▉    | 175/292 [2:22:41<1:28:37, 45.45s/it]"
     ]
    },
    {
     "name": "stdout",
     "output_type": "stream",
     "text": [
      "Creating database for kanga333/variable-mapper...\n",
      "Analyzing kanga333/variable-mapper...\n"
     ]
    },
    {
     "name": "stderr",
     "output_type": "stream",
     "text": [
      "Analyzing repositories:  60%|██████    | 176/292 [2:23:27<1:28:02, 45.54s/it]"
     ]
    },
    {
     "name": "stdout",
     "output_type": "stream",
     "text": [
      "Creating database for kevin-david/zipalign-sign-android-release...\n",
      "Analyzing kevin-david/zipalign-sign-android-release...\n"
     ]
    },
    {
     "name": "stderr",
     "output_type": "stream",
     "text": [
      "Analyzing repositories:  61%|██████    | 177/292 [2:24:15<1:28:54, 46.39s/it]"
     ]
    },
    {
     "name": "stdout",
     "output_type": "stream",
     "text": [
      "Creating database for kiegroup/git-backporting...\n",
      "Analyzing kiegroup/git-backporting...\n"
     ]
    },
    {
     "name": "stderr",
     "output_type": "stream",
     "text": [
      "Analyzing repositories:  61%|██████    | 178/292 [2:25:22<1:39:46, 52.52s/it]"
     ]
    },
    {
     "name": "stdout",
     "output_type": "stream",
     "text": [
      "Creating database for kiegroup/github-action-build-chain...\n",
      "Analyzing kiegroup/github-action-build-chain...\n"
     ]
    },
    {
     "name": "stderr",
     "output_type": "stream",
     "text": [
      "Analyzing repositories:  61%|██████▏   | 179/292 [2:26:28<1:46:20, 56.46s/it]"
     ]
    },
    {
     "name": "stdout",
     "output_type": "stream",
     "text": [
      "Creating database for kitabisa/docker-slim-action...\n",
      "Analyzing kitabisa/docker-slim-action...\n"
     ]
    },
    {
     "name": "stderr",
     "output_type": "stream",
     "text": [
      "Analyzing repositories:  62%|██████▏   | 180/292 [2:27:09<1:36:35, 51.75s/it]"
     ]
    },
    {
     "name": "stdout",
     "output_type": "stream",
     "text": [
      "Creating database for ksivamuthu/aws-copilot-github-action...\n",
      "Analyzing ksivamuthu/aws-copilot-github-action...\n"
     ]
    },
    {
     "name": "stderr",
     "output_type": "stream",
     "text": [
      "Analyzing repositories:  62%|██████▏   | 181/292 [2:27:52<1:31:07, 49.26s/it]"
     ]
    },
    {
     "name": "stdout",
     "output_type": "stream",
     "text": [
      "Creating database for layer5labs/kanvas-snapshot...\n",
      "Analyzing layer5labs/kanvas-snapshot...\n"
     ]
    },
    {
     "name": "stderr",
     "output_type": "stream",
     "text": [
      "Analyzing repositories:  62%|██████▏   | 182/292 [2:28:35<1:27:03, 47.48s/it]"
     ]
    },
    {
     "name": "stdout",
     "output_type": "stream",
     "text": [
      "Creating database for laytan/setup-odin...\n",
      "Analyzing laytan/setup-odin...\n"
     ]
    },
    {
     "name": "stderr",
     "output_type": "stream",
     "text": [
      "Analyzing repositories:  63%|██████▎   | 183/292 [2:30:07<1:50:13, 60.68s/it]"
     ]
    },
    {
     "name": "stdout",
     "output_type": "stream",
     "text": [
      "Creating database for leanix/nx-affected-dependencies-action...\n",
      "Analyzing leanix/nx-affected-dependencies-action...\n"
     ]
    },
    {
     "name": "stderr",
     "output_type": "stream",
     "text": [
      "Analyzing repositories:  63%|██████▎   | 184/292 [2:30:49<1:39:24, 55.23s/it]"
     ]
    },
    {
     "name": "stdout",
     "output_type": "stream",
     "text": [
      "Creating database for lhotari/action-upterm...\n",
      "Analyzing lhotari/action-upterm...\n"
     ]
    },
    {
     "name": "stderr",
     "output_type": "stream",
     "text": [
      "Analyzing repositories:  63%|██████▎   | 185/292 [2:31:33<1:32:25, 51.83s/it]"
     ]
    },
    {
     "name": "stdout",
     "output_type": "stream",
     "text": [
      "Creating database for lindluni/actions-variable-groups...\n",
      "Analyzing lindluni/actions-variable-groups...\n"
     ]
    },
    {
     "name": "stderr",
     "output_type": "stream",
     "text": [
      "Analyzing repositories:  64%|██████▎   | 186/292 [2:32:17<1:27:02, 49.26s/it]"
     ]
    },
    {
     "name": "stdout",
     "output_type": "stream",
     "text": [
      "Creating database for loopwerk/tag-changelog...\n",
      "Analyzing loopwerk/tag-changelog...\n"
     ]
    },
    {
     "name": "stderr",
     "output_type": "stream",
     "text": [
      "Analyzing repositories:  64%|██████▍   | 187/292 [2:33:01<1:23:55, 47.95s/it]"
     ]
    },
    {
     "name": "stdout",
     "output_type": "stream",
     "text": [
      "Creating database for lukka/run-vcpkg...\n",
      "Analyzing lukka/run-vcpkg...\n"
     ]
    },
    {
     "name": "stderr",
     "output_type": "stream",
     "text": [
      "Analyzing repositories:  64%|██████▍   | 188/292 [2:34:37<1:47:55, 62.27s/it]"
     ]
    },
    {
     "name": "stdout",
     "output_type": "stream",
     "text": [
      "Creating database for lukka/run-cmake...\n",
      "Analyzing lukka/run-cmake...\n"
     ]
    },
    {
     "name": "stderr",
     "output_type": "stream",
     "text": [
      "Analyzing repositories:  65%|██████▍   | 189/292 [2:35:34<1:44:15, 60.74s/it]"
     ]
    },
    {
     "name": "stdout",
     "output_type": "stream",
     "text": [
      "Creating database for lwojcik/github-action-feed-to-social-media...\n",
      "Analyzing lwojcik/github-action-feed-to-social-media...\n"
     ]
    },
    {
     "name": "stderr",
     "output_type": "stream",
     "text": [
      "Analyzing repositories:  65%|██████▌   | 190/292 [2:36:16<1:33:17, 54.87s/it]"
     ]
    },
    {
     "name": "stdout",
     "output_type": "stream",
     "text": [
      "Creating database for machulav/ec2-github-runner...\n",
      "Analyzing machulav/ec2-github-runner...\n"
     ]
    },
    {
     "name": "stderr",
     "output_type": "stream",
     "text": [
      "Analyzing repositories:  65%|██████▌   | 191/292 [2:37:46<1:50:15, 65.50s/it]"
     ]
    },
    {
     "name": "stdout",
     "output_type": "stream",
     "text": [
      "Creating database for mainmatter/ember-asset-size-action...\n",
      "Analyzing mainmatter/ember-asset-size-action...\n"
     ]
    },
    {
     "name": "stderr",
     "output_type": "stream",
     "text": [
      "Analyzing repositories:  66%|██████▌   | 192/292 [2:38:34<1:40:30, 60.30s/it]"
     ]
    },
    {
     "name": "stdout",
     "output_type": "stream",
     "text": [
      "Creating database for managedcode/MAUIAppVersion...\n",
      "Analyzing managedcode/MAUIAppVersion...\n"
     ]
    },
    {
     "name": "stderr",
     "output_type": "stream",
     "text": [
      "Analyzing repositories:  66%|██████▌   | 193/292 [2:39:14<1:29:19, 54.14s/it]"
     ]
    },
    {
     "name": "stdout",
     "output_type": "stream",
     "text": [
      "Creating database for manusa/actions-setup-minikube...\n",
      "Analyzing manusa/actions-setup-minikube...\n"
     ]
    },
    {
     "name": "stderr",
     "output_type": "stream",
     "text": [
      "Analyzing repositories:  66%|██████▋   | 194/292 [2:39:54<1:21:51, 50.11s/it]"
     ]
    },
    {
     "name": "stdout",
     "output_type": "stream",
     "text": [
      "Creating database for marocchino/validate-dependabot...\n",
      "Analyzing marocchino/validate-dependabot...\n"
     ]
    },
    {
     "name": "stderr",
     "output_type": "stream",
     "text": [
      "Analyzing repositories:  67%|██████▋   | 195/292 [2:40:45<1:21:16, 50.28s/it]"
     ]
    },
    {
     "name": "stdout",
     "output_type": "stream",
     "text": [
      "Creating database for martincostello/update-dotnet-sdk...\n",
      "Analyzing martincostello/update-dotnet-sdk...\n"
     ]
    },
    {
     "name": "stderr",
     "output_type": "stream",
     "text": [
      "Analyzing repositories:  67%|██████▋   | 196/292 [2:41:42<1:23:31, 52.20s/it]"
     ]
    },
    {
     "name": "stdout",
     "output_type": "stream",
     "text": [
      "Creating database for masci/datadog...\n",
      "Analyzing masci/datadog...\n"
     ]
    },
    {
     "name": "stderr",
     "output_type": "stream",
     "text": [
      "Analyzing repositories:  67%|██████▋   | 197/292 [2:42:25<1:18:30, 49.59s/it]"
     ]
    },
    {
     "name": "stdout",
     "output_type": "stream",
     "text": [
      "Creating database for matlab-actions/setup-matlab...\n",
      "Analyzing matlab-actions/setup-matlab...\n"
     ]
    },
    {
     "name": "stderr",
     "output_type": "stream",
     "text": [
      "Analyzing repositories:  68%|██████▊   | 198/292 [2:43:06<1:13:41, 47.04s/it]"
     ]
    },
    {
     "name": "stdout",
     "output_type": "stream",
     "text": [
      "Creating database for mattermost/action-mattermost-notify...\n",
      "Analyzing mattermost/action-mattermost-notify...\n"
     ]
    },
    {
     "name": "stderr",
     "output_type": "stream",
     "text": [
      "Analyzing repositories:  68%|██████▊   | 199/292 [2:43:55<1:13:32, 47.45s/it]"
     ]
    },
    {
     "name": "stdout",
     "output_type": "stream",
     "text": [
      "Creating database for mattzcarey/code-review-gpt...\n",
      "Analyzing mattzcarey/code-review-gpt...\n"
     ]
    },
    {
     "name": "stderr",
     "output_type": "stream",
     "text": [
      "Analyzing repositories:  68%|██████▊   | 200/292 [2:44:38<1:10:51, 46.21s/it]"
     ]
    },
    {
     "name": "stdout",
     "output_type": "stream",
     "text": [
      "Creating database for mbogh/test-ssl-action...\n",
      "Analyzing mbogh/test-ssl-action...\n"
     ]
    },
    {
     "name": "stderr",
     "output_type": "stream",
     "text": [
      "Analyzing repositories:  69%|██████▉   | 201/292 [2:45:20<1:08:04, 44.88s/it]"
     ]
    },
    {
     "name": "stdout",
     "output_type": "stream",
     "text": [
      "Creating database for mheap/require-checklist-action...\n",
      "Analyzing mheap/require-checklist-action...\n"
     ]
    },
    {
     "name": "stderr",
     "output_type": "stream",
     "text": [
      "Analyzing repositories:  69%|██████▉   | 202/292 [2:45:59<1:04:54, 43.27s/it]"
     ]
    },
    {
     "name": "stdout",
     "output_type": "stream",
     "text": [
      "Creating database for mheap/automatic-approve-action...\n",
      "Analyzing mheap/automatic-approve-action...\n"
     ]
    },
    {
     "name": "stderr",
     "output_type": "stream",
     "text": [
      "Analyzing repositories:  70%|██████▉   | 203/292 [2:46:39<1:02:33, 42.18s/it]"
     ]
    },
    {
     "name": "stdout",
     "output_type": "stream",
     "text": [
      "Creating database for microsoft/RichCodeNavIndexer...\n",
      "Analyzing microsoft/RichCodeNavIndexer...\n"
     ]
    },
    {
     "name": "stderr",
     "output_type": "stream",
     "text": [
      "Analyzing repositories:  70%|██████▉   | 204/292 [2:47:27<1:04:19, 43.85s/it]"
     ]
    },
    {
     "name": "stdout",
     "output_type": "stream",
     "text": [
      "Creating database for mikepenz/action-junit-report...\n",
      "Analyzing mikepenz/action-junit-report...\n"
     ]
    },
    {
     "name": "stderr",
     "output_type": "stream",
     "text": [
      "Analyzing repositories:  70%|███████   | 205/292 [2:48:20<1:07:42, 46.70s/it]"
     ]
    },
    {
     "name": "stdout",
     "output_type": "stream",
     "text": [
      "Creating database for mikesprague/teams-incoming-webhook-action...\n",
      "Analyzing mikesprague/teams-incoming-webhook-action...\n"
     ]
    },
    {
     "name": "stderr",
     "output_type": "stream",
     "text": [
      "Analyzing repositories:  71%|███████   | 206/292 [2:49:17<1:11:12, 49.68s/it]"
     ]
    },
    {
     "name": "stdout",
     "output_type": "stream",
     "text": [
      "Creating database for mlg87/pr-reviewer-slack-notify-action...\n",
      "Analyzing mlg87/pr-reviewer-slack-notify-action...\n"
     ]
    },
    {
     "name": "stderr",
     "output_type": "stream",
     "text": [
      "Analyzing repositories:  71%|███████   | 207/292 [2:50:28<1:19:26, 56.08s/it]"
     ]
    },
    {
     "name": "stdout",
     "output_type": "stream",
     "text": [
      "Creating database for mlugg/setup-zig...\n",
      "Analyzing mlugg/setup-zig...\n"
     ]
    },
    {
     "name": "stderr",
     "output_type": "stream",
     "text": [
      "Analyzing repositories:  71%|███████   | 208/292 [2:51:09<1:12:05, 51.50s/it]"
     ]
    },
    {
     "name": "stdout",
     "output_type": "stream",
     "text": [
      "Creating database for moonrepo/setup-rust...\n",
      "Analyzing moonrepo/setup-rust...\n"
     ]
    },
    {
     "name": "stderr",
     "output_type": "stream",
     "text": [
      "Analyzing repositories:  72%|███████▏  | 209/292 [2:51:49<1:06:31, 48.09s/it]"
     ]
    },
    {
     "name": "stdout",
     "output_type": "stream",
     "text": [
      "Creating database for moropo-com/action-trigger-test-run...\n",
      "Analyzing moropo-com/action-trigger-test-run...\n"
     ]
    },
    {
     "name": "stderr",
     "output_type": "stream",
     "text": [
      "Analyzing repositories:  72%|███████▏  | 210/292 [2:52:40<1:07:01, 49.04s/it]"
     ]
    },
    {
     "name": "stdout",
     "output_type": "stream",
     "text": [
      "Creating database for mrrobotdotapp/classic-discord-webhook...\n",
      "Analyzing mrrobotdotapp/classic-discord-webhook...\n"
     ]
    },
    {
     "name": "stderr",
     "output_type": "stream",
     "text": [
      "Analyzing repositories:  72%|███████▏  | 211/292 [2:53:40<1:10:50, 52.48s/it]"
     ]
    },
    {
     "name": "stdout",
     "output_type": "stream",
     "text": [
      "Creating database for necojackarc/auto-request-review...\n",
      "Analyzing necojackarc/auto-request-review...\n"
     ]
    },
    {
     "name": "stderr",
     "output_type": "stream",
     "text": [
      "Analyzing repositories:  73%|███████▎  | 212/292 [2:54:30<1:08:47, 51.59s/it]"
     ]
    },
    {
     "name": "stdout",
     "output_type": "stream",
     "text": [
      "Creating database for nelonoel/branch-name...\n",
      "Analyzing nelonoel/branch-name...\n"
     ]
    },
    {
     "name": "stderr",
     "output_type": "stream",
     "text": [
      "Analyzing repositories:  73%|███████▎  | 213/292 [2:55:10<1:03:14, 48.03s/it]"
     ]
    },
    {
     "name": "stdout",
     "output_type": "stream",
     "text": [
      "Creating database for nick-fields/retry...\n",
      "Analyzing nick-fields/retry...\n"
     ]
    },
    {
     "name": "stderr",
     "output_type": "stream",
     "text": [
      "Analyzing repositories:  73%|███████▎  | 214/292 [2:55:58<1:02:39, 48.20s/it]"
     ]
    },
    {
     "name": "stdout",
     "output_type": "stream",
     "text": [
      "Creating database for nicklegan/github-org-repo-metrics-action...\n",
      "Analyzing nicklegan/github-org-repo-metrics-action...\n"
     ]
    },
    {
     "name": "stderr",
     "output_type": "stream",
     "text": [
      "Analyzing repositories:  74%|███████▎  | 215/292 [2:56:45<1:01:21, 47.81s/it]"
     ]
    },
    {
     "name": "stdout",
     "output_type": "stream",
     "text": [
      "Creating database for nix-community/cache-nix-action...\n",
      "Analyzing nix-community/cache-nix-action...\n"
     ]
    },
    {
     "name": "stderr",
     "output_type": "stream",
     "text": [
      "Analyzing repositories:  74%|███████▍  | 216/292 [2:59:16<1:39:31, 78.57s/it]"
     ]
    },
    {
     "name": "stdout",
     "output_type": "stream",
     "text": [
      "Creating database for nowsecure/nowsecure-action...\n",
      "Analyzing nowsecure/nowsecure-action...\n"
     ]
    },
    {
     "name": "stderr",
     "output_type": "stream",
     "text": [
      "Analyzing repositories:  74%|███████▍  | 217/292 [3:00:51<1:44:32, 83.64s/it]"
     ]
    },
    {
     "name": "stdout",
     "output_type": "stream",
     "text": [
      "Creating database for ookami-kb/gh-pr-size-watcher...\n",
      "Analyzing ookami-kb/gh-pr-size-watcher...\n"
     ]
    },
    {
     "name": "stderr",
     "output_type": "stream",
     "text": [
      "Analyzing repositories:  75%|███████▍  | 218/292 [3:01:41<1:30:48, 73.63s/it]"
     ]
    },
    {
     "name": "stdout",
     "output_type": "stream",
     "text": [
      "Creating database for oprypin/find-latest-tag...\n",
      "Analyzing oprypin/find-latest-tag...\n"
     ]
    },
    {
     "name": "stderr",
     "output_type": "stream",
     "text": [
      "Analyzing repositories:  75%|███████▌  | 219/292 [3:02:21<1:17:04, 63.35s/it]"
     ]
    },
    {
     "name": "stdout",
     "output_type": "stream",
     "text": [
      "Creating database for opsless/ms-teams-github-actions...\n",
      "Analyzing opsless/ms-teams-github-actions...\n"
     ]
    },
    {
     "name": "stderr",
     "output_type": "stream",
     "text": [
      "Analyzing repositories:  75%|███████▌  | 220/292 [3:03:29<1:17:49, 64.85s/it]"
     ]
    },
    {
     "name": "stdout",
     "output_type": "stream",
     "text": [
      "Creating database for oracle-actions/run-oci-cli-command...\n",
      "Analyzing oracle-actions/run-oci-cli-command...\n"
     ]
    },
    {
     "name": "stderr",
     "output_type": "stream",
     "text": [
      "Analyzing repositories:  76%|███████▌  | 221/292 [3:04:13<1:09:26, 58.69s/it]"
     ]
    },
    {
     "name": "stdout",
     "output_type": "stream",
     "text": [
      "Creating database for paambaati/codeclimate-action...\n",
      "Analyzing paambaati/codeclimate-action...\n"
     ]
    },
    {
     "name": "stderr",
     "output_type": "stream",
     "text": [
      "Analyzing repositories:  76%|███████▌  | 222/292 [3:04:56<1:02:50, 53.87s/it]"
     ]
    },
    {
     "name": "stdout",
     "output_type": "stream",
     "text": [
      "Creating database for parkerbxyz/suggest-changes...\n",
      "Analyzing parkerbxyz/suggest-changes...\n"
     ]
    },
    {
     "name": "stderr",
     "output_type": "stream",
     "text": [
      "Analyzing repositories:  76%|███████▋  | 223/292 [3:05:51<1:02:19, 54.19s/it]"
     ]
    },
    {
     "name": "stdout",
     "output_type": "stream",
     "text": [
      "Creating database for pascalgn/automerge-action...\n",
      "Analyzing pascalgn/automerge-action...\n"
     ]
    },
    {
     "name": "stderr",
     "output_type": "stream",
     "text": [
      "Analyzing repositories:  77%|███████▋  | 224/292 [3:06:42<1:00:16, 53.18s/it]"
     ]
    },
    {
     "name": "stdout",
     "output_type": "stream",
     "text": [
      "Creating database for peaceiris/actions-suggest-related-links...\n",
      "Analyzing peaceiris/actions-suggest-related-links...\n"
     ]
    },
    {
     "name": "stderr",
     "output_type": "stream",
     "text": [
      "Analyzing repositories:  77%|███████▋  | 225/292 [3:07:23<55:20, 49.56s/it]  "
     ]
    },
    {
     "name": "stdout",
     "output_type": "stream",
     "text": [
      "Creating database for peaceiris/actions-mdbook...\n",
      "Analyzing peaceiris/actions-mdbook...\n"
     ]
    },
    {
     "name": "stderr",
     "output_type": "stream",
     "text": [
      "Analyzing repositories:  77%|███████▋  | 226/292 [3:08:04<51:34, 46.89s/it]"
     ]
    },
    {
     "name": "stdout",
     "output_type": "stream",
     "text": [
      "Creating database for peckjon/reject-pr-approval-from-committer...\n",
      "Analyzing peckjon/reject-pr-approval-from-committer...\n"
     ]
    },
    {
     "name": "stderr",
     "output_type": "stream",
     "text": [
      "Analyzing repositories:  78%|███████▊  | 227/292 [3:08:50<50:39, 46.76s/it]"
     ]
    },
    {
     "name": "stdout",
     "output_type": "stream",
     "text": [
      "Creating database for peter-evans/find-comment...\n",
      "Analyzing peter-evans/find-comment...\n"
     ]
    },
    {
     "name": "stderr",
     "output_type": "stream",
     "text": [
      "Analyzing repositories:  78%|███████▊  | 228/292 [3:09:35<49:23, 46.31s/it]"
     ]
    },
    {
     "name": "stdout",
     "output_type": "stream",
     "text": [
      "Creating database for philips-software/sonar-scanner-action...\n",
      "Analyzing philips-software/sonar-scanner-action...\n"
     ]
    },
    {
     "name": "stderr",
     "output_type": "stream",
     "text": [
      "Analyzing repositories:  78%|███████▊  | 229/292 [3:10:22<48:52, 46.55s/it]"
     ]
    },
    {
     "name": "stdout",
     "output_type": "stream",
     "text": [
      "Creating database for pixee/upload-tool-results-action...\n",
      "Analyzing pixee/upload-tool-results-action...\n"
     ]
    },
    {
     "name": "stderr",
     "output_type": "stream",
     "text": [
      "Analyzing repositories:  79%|███████▉  | 230/292 [3:11:03<46:21, 44.86s/it]"
     ]
    },
    {
     "name": "stdout",
     "output_type": "stream",
     "text": [
      "Creating database for shadowmoose/GHA-LoC-Badge...\n",
      "Analyzing shadowmoose/GHA-LoC-Badge...\n"
     ]
    },
    {
     "name": "stderr",
     "output_type": "stream",
     "text": [
      "Analyzing repositories:  79%|███████▉  | 231/292 [3:11:45<44:38, 43.90s/it]"
     ]
    },
    {
     "name": "stdout",
     "output_type": "stream",
     "text": [
      "Creating database for shallwefootball/upload-s3-action...\n",
      "Analyzing shallwefootball/upload-s3-action...\n"
     ]
    },
    {
     "name": "stderr",
     "output_type": "stream",
     "text": [
      "Analyzing repositories:  79%|███████▉  | 232/292 [3:12:36<45:56, 45.94s/it]"
     ]
    },
    {
     "name": "stdout",
     "output_type": "stream",
     "text": [
      "Creating database for sherlo-io/sherlo...\n",
      "Analyzing sherlo-io/sherlo...\n"
     ]
    },
    {
     "name": "stderr",
     "output_type": "stream",
     "text": [
      "Analyzing repositories:  80%|███████▉  | 233/292 [3:13:51<53:49, 54.73s/it]"
     ]
    },
    {
     "name": "stdout",
     "output_type": "stream",
     "text": [
      "Creating database for shimataro/ssh-key-action...\n",
      "Analyzing shimataro/ssh-key-action...\n"
     ]
    },
    {
     "name": "stderr",
     "output_type": "stream",
     "text": [
      "Analyzing repositories:  80%|████████  | 234/292 [3:14:44<52:30, 54.32s/it]"
     ]
    },
    {
     "name": "stdout",
     "output_type": "stream",
     "text": [
      "Creating database for shioyang/check-pr-labels-on-push-action...\n",
      "Analyzing shioyang/check-pr-labels-on-push-action...\n"
     ]
    },
    {
     "name": "stderr",
     "output_type": "stream",
     "text": [
      "Analyzing repositories:  80%|████████  | 235/292 [3:15:29<48:56, 51.52s/it]"
     ]
    },
    {
     "name": "stdout",
     "output_type": "stream",
     "text": [
      "Creating database for shogo82148/actions-setup-redis...\n",
      "Analyzing shogo82148/actions-setup-redis...\n"
     ]
    },
    {
     "name": "stderr",
     "output_type": "stream",
     "text": [
      "Analyzing repositories:  81%|████████  | 236/292 [3:16:10<45:13, 48.45s/it]"
     ]
    },
    {
     "name": "stdout",
     "output_type": "stream",
     "text": [
      "Creating database for shogo82148/actions-upload-release-asset...\n",
      "Analyzing shogo82148/actions-upload-release-asset...\n"
     ]
    },
    {
     "name": "stderr",
     "output_type": "stream",
     "text": [
      "Analyzing repositories:  81%|████████  | 237/292 [3:16:51<42:12, 46.04s/it]"
     ]
    },
    {
     "name": "stdout",
     "output_type": "stream",
     "text": [
      "Creating database for shonansurvivors/actions-s3-cache...\n",
      "Analyzing shonansurvivors/actions-s3-cache...\n"
     ]
    },
    {
     "name": "stderr",
     "output_type": "stream",
     "text": [
      "Analyzing repositories:  82%|████████▏ | 238/292 [3:18:44<59:38, 66.28s/it]"
     ]
    },
    {
     "name": "stdout",
     "output_type": "stream",
     "text": [
      "Creating database for sibiraj-s/action-eslint...\n",
      "Analyzing sibiraj-s/action-eslint...\n"
     ]
    },
    {
     "name": "stderr",
     "output_type": "stream",
     "text": [
      "Analyzing repositories:  82%|████████▏ | 239/292 [3:19:32<53:39, 60.74s/it]"
     ]
    },
    {
     "name": "stdout",
     "output_type": "stream",
     "text": [
      "Creating database for sinedied/publish-devto...\n",
      "Analyzing sinedied/publish-devto...\n"
     ]
    },
    {
     "name": "stderr",
     "output_type": "stream",
     "text": [
      "Analyzing repositories:  82%|████████▏ | 240/292 [3:20:34<52:51, 61.00s/it]"
     ]
    },
    {
     "name": "stdout",
     "output_type": "stream",
     "text": [
      "Creating database for softprops/setup-aws-copilot...\n",
      "Analyzing softprops/setup-aws-copilot...\n"
     ]
    },
    {
     "name": "stderr",
     "output_type": "stream",
     "text": [
      "Analyzing repositories:  83%|████████▎ | 241/292 [3:21:16<47:09, 55.48s/it]"
     ]
    },
    {
     "name": "stdout",
     "output_type": "stream",
     "text": [
      "Creating database for squarecloudofc/github-action...\n",
      "Analyzing squarecloudofc/github-action...\n"
     ]
    },
    {
     "name": "stderr",
     "output_type": "stream",
     "text": [
      "Analyzing repositories:  83%|████████▎ | 242/292 [3:22:07<45:05, 54.10s/it]"
     ]
    },
    {
     "name": "stdout",
     "output_type": "stream",
     "text": [
      "Creating database for stainless-api/upload-openapi-spec-action...\n",
      "Analyzing stainless-api/upload-openapi-spec-action...\n"
     ]
    },
    {
     "name": "stderr",
     "output_type": "stream",
     "text": [
      "Analyzing repositories:  83%|████████▎ | 243/292 [3:22:59<43:40, 53.49s/it]"
     ]
    },
    {
     "name": "stdout",
     "output_type": "stream",
     "text": [
      "Creating database for steffen-karlsson/stalesweeper...\n",
      "Analyzing steffen-karlsson/stalesweeper...\n"
     ]
    },
    {
     "name": "stderr",
     "output_type": "stream",
     "text": [
      "Analyzing repositories:  84%|████████▎ | 244/292 [3:23:51<42:19, 52.91s/it]"
     ]
    },
    {
     "name": "stdout",
     "output_type": "stream",
     "text": [
      "Creating database for step-security/wait-for-secrets...\n",
      "Analyzing step-security/wait-for-secrets...\n"
     ]
    },
    {
     "name": "stderr",
     "output_type": "stream",
     "text": [
      "Analyzing repositories:  84%|████████▍ | 245/292 [3:24:34<39:07, 49.95s/it]"
     ]
    },
    {
     "name": "stdout",
     "output_type": "stream",
     "text": [
      "Creating database for stepci/stepci...\n",
      "Analyzing stepci/stepci...\n"
     ]
    },
    {
     "name": "stderr",
     "output_type": "stream",
     "text": [
      "Analyzing repositories:  84%|████████▍ | 246/292 [3:25:15<36:10, 47.19s/it]"
     ]
    },
    {
     "name": "stdout",
     "output_type": "stream",
     "text": [
      "Creating database for stoat-dev/stoat-action...\n",
      "Analyzing stoat-dev/stoat-action...\n"
     ]
    },
    {
     "name": "stderr",
     "output_type": "stream",
     "text": [
      "Analyzing repositories:  85%|████████▍ | 247/292 [3:26:35<42:49, 57.11s/it]"
     ]
    },
    {
     "name": "stdout",
     "output_type": "stream",
     "text": [
      "Creating database for superman66/wakatime-sync...\n",
      "Analyzing superman66/wakatime-sync...\n"
     ]
    },
    {
     "name": "stderr",
     "output_type": "stream",
     "text": [
      "Analyzing repositories:  85%|████████▍ | 248/292 [3:27:21<39:28, 53.83s/it]"
     ]
    },
    {
     "name": "stdout",
     "output_type": "stream",
     "text": [
      "Creating database for swinton/screenshot-website...\n",
      "Analyzing swinton/screenshot-website...\n"
     ]
    },
    {
     "name": "stderr",
     "output_type": "stream",
     "text": [
      "Analyzing repositories:  85%|████████▌ | 249/292 [3:28:16<38:42, 54.02s/it]"
     ]
    },
    {
     "name": "stdout",
     "output_type": "stream",
     "text": [
      "Creating database for synopsys-sig/detect-action...\n",
      "Analyzing synopsys-sig/detect-action...\n"
     ]
    },
    {
     "name": "stderr",
     "output_type": "stream",
     "text": [
      "Analyzing repositories:  86%|████████▌ | 250/292 [3:29:08<37:24, 53.44s/it]"
     ]
    },
    {
     "name": "stdout",
     "output_type": "stream",
     "text": [
      "Creating database for sysdiglabs/scan-action...\n",
      "Analyzing sysdiglabs/scan-action...\n"
     ]
    },
    {
     "name": "stderr",
     "output_type": "stream",
     "text": [
      "Analyzing repositories:  86%|████████▌ | 251/292 [3:29:52<34:42, 50.79s/it]"
     ]
    },
    {
     "name": "stdout",
     "output_type": "stream",
     "text": [
      "Creating database for szenius/notion-burndown...\n",
      "Analyzing szenius/notion-burndown...\n"
     ]
    },
    {
     "name": "stderr",
     "output_type": "stream",
     "text": [
      "Analyzing repositories:  86%|████████▋ | 252/292 [3:30:39<33:01, 49.54s/it]"
     ]
    },
    {
     "name": "stdout",
     "output_type": "stream",
     "text": [
      "Creating database for teatimeguest/setup-texlive-action...\n",
      "Analyzing teatimeguest/setup-texlive-action...\n"
     ]
    },
    {
     "name": "stderr",
     "output_type": "stream",
     "text": [
      "Analyzing repositories:  87%|████████▋ | 253/292 [3:31:51<36:40, 56.42s/it]"
     ]
    },
    {
     "name": "stdout",
     "output_type": "stream",
     "text": [
      "Creating database for technote-space/create-pr-action...\n",
      "Analyzing technote-space/create-pr-action...\n"
     ]
    },
    {
     "name": "stderr",
     "output_type": "stream",
     "text": [
      "Analyzing repositories:  87%|████████▋ | 254/292 [3:32:31<32:29, 51.30s/it]"
     ]
    },
    {
     "name": "stdout",
     "output_type": "stream",
     "text": [
      "Creating database for test-room-7/action-update-file...\n",
      "Analyzing test-room-7/action-update-file...\n"
     ]
    },
    {
     "name": "stderr",
     "output_type": "stream",
     "text": [
      "Analyzing repositories:  87%|████████▋ | 255/292 [3:33:19<31:02, 50.35s/it]"
     ]
    },
    {
     "name": "stdout",
     "output_type": "stream",
     "text": [
      "Creating database for test-summary/action...\n",
      "Analyzing test-summary/action...\n"
     ]
    },
    {
     "name": "stderr",
     "output_type": "stream",
     "text": [
      "Analyzing repositories:  88%|████████▊ | 256/292 [3:34:00<28:30, 47.51s/it]"
     ]
    },
    {
     "name": "stdout",
     "output_type": "stream",
     "text": [
      "Creating database for the-actions-org/workflow-dispatch...\n",
      "Analyzing the-actions-org/workflow-dispatch...\n"
     ]
    },
    {
     "name": "stderr",
     "output_type": "stream",
     "text": [
      "Analyzing repositories:  88%|████████▊ | 257/292 [3:34:50<28:11, 48.32s/it]"
     ]
    },
    {
     "name": "stdout",
     "output_type": "stream",
     "text": [
      "Creating database for thomaseizinger/keep-a-changelog-new-release...\n",
      "Analyzing thomaseizinger/keep-a-changelog-new-release...\n"
     ]
    },
    {
     "name": "stderr",
     "output_type": "stream",
     "text": [
      "Analyzing repositories:  88%|████████▊ | 258/292 [3:35:34<26:36, 46.95s/it]"
     ]
    },
    {
     "name": "stdout",
     "output_type": "stream",
     "text": [
      "Creating database for tibdex/backport...\n",
      "Analyzing tibdex/backport...\n"
     ]
    },
    {
     "name": "stderr",
     "output_type": "stream",
     "text": [
      "Analyzing repositories:  89%|████████▊ | 259/292 [3:36:15<24:48, 45.09s/it]"
     ]
    },
    {
     "name": "stdout",
     "output_type": "stream",
     "text": [
      "Creating database for tinovyatkin/action-php-codesniffer...\n",
      "Analyzing tinovyatkin/action-php-codesniffer...\n"
     ]
    },
    {
     "name": "stderr",
     "output_type": "stream",
     "text": [
      "Analyzing repositories:  89%|████████▉ | 260/292 [3:37:02<24:26, 45.84s/it]"
     ]
    },
    {
     "name": "stdout",
     "output_type": "stream",
     "text": [
      "Creating database for tj-actions/glob...\n",
      "Analyzing tj-actions/glob...\n"
     ]
    },
    {
     "name": "stderr",
     "output_type": "stream",
     "text": [
      "Analyzing repositories:  89%|████████▉ | 261/292 [3:38:01<25:42, 49.75s/it]"
     ]
    },
    {
     "name": "stdout",
     "output_type": "stream",
     "text": [
      "Creating database for tmcw/notfoundbot...\n",
      "Analyzing tmcw/notfoundbot...\n"
     ]
    },
    {
     "name": "stderr",
     "output_type": "stream",
     "text": [
      "Analyzing repositories:  90%|████████▉ | 262/292 [3:39:08<27:28, 54.94s/it]"
     ]
    },
    {
     "name": "stdout",
     "output_type": "stream",
     "text": [
      "Creating database for toshimaru/auto-author-assign...\n",
      "Analyzing toshimaru/auto-author-assign...\n"
     ]
    },
    {
     "name": "stderr",
     "output_type": "stream",
     "text": [
      "Analyzing repositories:  90%|█████████ | 263/292 [3:39:57<25:42, 53.18s/it]"
     ]
    },
    {
     "name": "stdout",
     "output_type": "stream",
     "text": [
      "Creating database for tubone24/update_release...\n",
      "Analyzing tubone24/update_release...\n"
     ]
    },
    {
     "name": "stderr",
     "output_type": "stream",
     "text": [
      "Analyzing repositories:  90%|█████████ | 264/292 [3:40:43<23:49, 51.04s/it]"
     ]
    },
    {
     "name": "stdout",
     "output_type": "stream",
     "text": [
      "Creating database for turtlequeue/setup-babashka...\n",
      "Analyzing turtlequeue/setup-babashka...\n"
     ]
    },
    {
     "name": "stderr",
     "output_type": "stream",
     "text": [
      "Analyzing repositories:  91%|█████████ | 265/292 [3:41:33<22:52, 50.83s/it]"
     ]
    },
    {
     "name": "stdout",
     "output_type": "stream",
     "text": [
      "Creating database for umani/changed-files...\n",
      "Analyzing umani/changed-files...\n"
     ]
    },
    {
     "name": "stderr",
     "output_type": "stream",
     "text": [
      "Analyzing repositories:  91%|█████████ | 266/292 [3:42:13<20:34, 47.47s/it]"
     ]
    },
    {
     "name": "stdout",
     "output_type": "stream",
     "text": [
      "Creating database for usimd/pi-gen-action...\n",
      "Analyzing usimd/pi-gen-action...\n"
     ]
    },
    {
     "name": "stderr",
     "output_type": "stream",
     "text": [
      "Analyzing repositories:  91%|█████████▏| 267/292 [3:42:54<18:58, 45.55s/it]"
     ]
    },
    {
     "name": "stdout",
     "output_type": "stream",
     "text": [
      "Creating database for varunsridharan/action-github-workflow-sync...\n",
      "Analyzing varunsridharan/action-github-workflow-sync...\n"
     ]
    },
    {
     "name": "stderr",
     "output_type": "stream",
     "text": [
      "Analyzing repositories:  92%|█████████▏| 268/292 [3:43:46<18:59, 47.50s/it]"
     ]
    },
    {
     "name": "stdout",
     "output_type": "stream",
     "text": [
      "Creating database for vimtor/action-zip...\n",
      "Analyzing vimtor/action-zip...\n"
     ]
    },
    {
     "name": "stderr",
     "output_type": "stream",
     "text": [
      "Analyzing repositories:  92%|█████████▏| 269/292 [3:44:28<17:32, 45.75s/it]"
     ]
    },
    {
     "name": "stdout",
     "output_type": "stream",
     "text": [
      "Creating database for vio/bundle-stats-action...\n",
      "Analyzing vio/bundle-stats-action...\n"
     ]
    },
    {
     "name": "stderr",
     "output_type": "stream",
     "text": [
      "Analyzing repositories:  92%|█████████▏| 270/292 [3:45:08<16:11, 44.15s/it]"
     ]
    },
    {
     "name": "stdout",
     "output_type": "stream",
     "text": [
      "Creating database for vlaurin/action-ghcr-prune...\n",
      "Analyzing vlaurin/action-ghcr-prune...\n"
     ]
    },
    {
     "name": "stderr",
     "output_type": "stream",
     "text": [
      "Analyzing repositories:  93%|█████████▎| 271/292 [3:45:53<15:32, 44.39s/it]"
     ]
    },
    {
     "name": "stdout",
     "output_type": "stream",
     "text": [
      "Creating database for vn7n24fzkq/github-profile-summary-cards...\n",
      "Analyzing vn7n24fzkq/github-profile-summary-cards...\n"
     ]
    },
    {
     "name": "stderr",
     "output_type": "stream",
     "text": [
      "Analyzing repositories:  93%|█████████▎| 272/292 [3:47:38<20:50, 62.51s/it]"
     ]
    },
    {
     "name": "stdout",
     "output_type": "stream",
     "text": [
      "Creating database for volta-cli/action...\n",
      "Analyzing volta-cli/action...\n"
     ]
    },
    {
     "name": "stderr",
     "output_type": "stream",
     "text": [
      "Analyzing repositories:  93%|█████████▎| 273/292 [3:48:31<18:51, 59.55s/it]"
     ]
    },
    {
     "name": "stdout",
     "output_type": "stream",
     "text": [
      "Creating database for wangyucode/sftp-upload-action...\n",
      "Analyzing wangyucode/sftp-upload-action...\n"
     ]
    },
    {
     "name": "stderr",
     "output_type": "stream",
     "text": [
      "Analyzing repositories:  94%|█████████▍| 274/292 [3:49:23<17:13, 57.44s/it]"
     ]
    },
    {
     "name": "stdout",
     "output_type": "stream",
     "text": [
      "Creating database for wdzeng/edge-addon...\n",
      "Analyzing wdzeng/edge-addon...\n"
     ]
    },
    {
     "name": "stderr",
     "output_type": "stream",
     "text": [
      "Analyzing repositories:  94%|█████████▍| 275/292 [3:50:04<14:53, 52.54s/it]"
     ]
    },
    {
     "name": "stdout",
     "output_type": "stream",
     "text": [
      "Creating database for we-cli/coverage-badge-action...\n",
      "Analyzing we-cli/coverage-badge-action...\n"
     ]
    },
    {
     "name": "stderr",
     "output_type": "stream",
     "text": [
      "Analyzing repositories:  95%|█████████▍| 276/292 [3:50:44<12:59, 48.72s/it]"
     ]
    },
    {
     "name": "stdout",
     "output_type": "stream",
     "text": [
      "Creating database for wechuli/allcheckspassed...\n",
      "Analyzing wechuli/allcheckspassed...\n"
     ]
    },
    {
     "name": "stderr",
     "output_type": "stream",
     "text": [
      "Analyzing repositories:  95%|█████████▍| 277/292 [3:51:38<12:33, 50.24s/it]"
     ]
    },
    {
     "name": "stdout",
     "output_type": "stream",
     "text": [
      "Creating database for wenkokke/setup-agda...\n",
      "Analyzing wenkokke/setup-agda...\n"
     ]
    },
    {
     "name": "stderr",
     "output_type": "stream",
     "text": [
      "Analyzing repositories:  95%|█████████▌| 278/292 [3:52:38<12:26, 53.34s/it]"
     ]
    },
    {
     "name": "stdout",
     "output_type": "stream",
     "text": [
      "Creating database for wktk/github-project-connect-action...\n",
      "Analyzing wktk/github-project-connect-action...\n"
     ]
    },
    {
     "name": "stderr",
     "output_type": "stream",
     "text": [
      "Analyzing repositories:  96%|█████████▌| 279/292 [3:53:28<11:17, 52.13s/it]"
     ]
    },
    {
     "name": "stdout",
     "output_type": "stream",
     "text": [
      "Creating database for workflow/nix-shell-action...\n",
      "Analyzing workflow/nix-shell-action...\n"
     ]
    },
    {
     "name": "stderr",
     "output_type": "stream",
     "text": [
      "Analyzing repositories:  96%|█████████▌| 280/292 [3:54:18<10:18, 51.50s/it]"
     ]
    },
    {
     "name": "stdout",
     "output_type": "stream",
     "text": [
      "Creating database for worksome/jira-branch-name-validator-action...\n",
      "Analyzing worksome/jira-branch-name-validator-action...\n"
     ]
    },
    {
     "name": "stderr",
     "output_type": "stream",
     "text": [
      "Analyzing repositories:  96%|█████████▌| 281/292 [3:55:00<08:57, 48.83s/it]"
     ]
    },
    {
     "name": "stdout",
     "output_type": "stream",
     "text": [
      "Creating database for xavierLowmiller/xcodegen-action...\n",
      "Analyzing xavierLowmiller/xcodegen-action...\n"
     ]
    },
    {
     "name": "stderr",
     "output_type": "stream",
     "text": [
      "Analyzing repositories:  97%|█████████▋| 282/292 [3:55:41<07:43, 46.33s/it]"
     ]
    },
    {
     "name": "stdout",
     "output_type": "stream",
     "text": [
      "Creating database for xeol-io/bumpgen...\n",
      "Analyzing xeol-io/bumpgen...\n"
     ]
    },
    {
     "name": "stderr",
     "output_type": "stream",
     "text": [
      "Analyzing repositories:  97%|█████████▋| 283/292 [3:56:28<06:57, 46.42s/it]"
     ]
    },
    {
     "name": "stdout",
     "output_type": "stream",
     "text": [
      "Creating database for xmake-io/github-action-setup-xmake...\n",
      "Analyzing xmake-io/github-action-setup-xmake...\n"
     ]
    },
    {
     "name": "stderr",
     "output_type": "stream",
     "text": [
      "Analyzing repositories:  97%|█████████▋| 284/292 [3:57:34<07:00, 52.56s/it]"
     ]
    },
    {
     "name": "stdout",
     "output_type": "stream",
     "text": [
      "Creating database for xt0rted/slash-command-action...\n",
      "Analyzing xt0rted/slash-command-action...\n"
     ]
    },
    {
     "name": "stderr",
     "output_type": "stream",
     "text": [
      "Analyzing repositories:  98%|█████████▊| 285/292 [3:58:15<05:42, 48.92s/it]"
     ]
    },
    {
     "name": "stdout",
     "output_type": "stream",
     "text": [
      "Creating database for xt0rted/dotnet-format...\n",
      "Analyzing xt0rted/dotnet-format...\n"
     ]
    },
    {
     "name": "stderr",
     "output_type": "stream",
     "text": [
      "Analyzing repositories:  98%|█████████▊| 286/292 [3:58:55<04:38, 46.37s/it]"
     ]
    },
    {
     "name": "stdout",
     "output_type": "stream",
     "text": [
      "Creating database for yanamura/git-flow-merge-action...\n",
      "Analyzing yanamura/git-flow-merge-action...\n"
     ]
    },
    {
     "name": "stderr",
     "output_type": "stream",
     "text": [
      "Analyzing repositories:  98%|█████████▊| 287/292 [3:59:42<03:52, 46.43s/it]"
     ]
    },
    {
     "name": "stdout",
     "output_type": "stream",
     "text": [
      "Creating database for yc-actions/yc-sls-container-deploy...\n",
      "Analyzing yc-actions/yc-sls-container-deploy...\n"
     ]
    },
    {
     "name": "stderr",
     "output_type": "stream",
     "text": [
      "Analyzing repositories:  99%|█████████▊| 288/292 [4:00:23<02:59, 44.80s/it]"
     ]
    },
    {
     "name": "stdout",
     "output_type": "stream",
     "text": [
      "Creating database for yogeshpaliyal/upload-indus-appstore...\n",
      "Analyzing yogeshpaliyal/upload-indus-appstore...\n"
     ]
    },
    {
     "name": "stderr",
     "output_type": "stream",
     "text": [
      "Analyzing repositories:  99%|█████████▉| 289/292 [4:01:10<02:16, 45.43s/it]"
     ]
    },
    {
     "name": "stdout",
     "output_type": "stream",
     "text": [
      "Creating database for yuichielectric/dive-action...\n",
      "Analyzing yuichielectric/dive-action...\n"
     ]
    },
    {
     "name": "stderr",
     "output_type": "stream",
     "text": [
      "Analyzing repositories:  99%|█████████▉| 290/292 [4:01:54<01:30, 45.02s/it]"
     ]
    },
    {
     "name": "stdout",
     "output_type": "stream",
     "text": [
      "Creating database for yuzutech/annotations-action...\n",
      "Analyzing yuzutech/annotations-action...\n"
     ]
    },
    {
     "name": "stderr",
     "output_type": "stream",
     "text": [
      "Analyzing repositories: 100%|█████████▉| 291/292 [4:02:37<00:44, 44.48s/it]"
     ]
    },
    {
     "name": "stdout",
     "output_type": "stream",
     "text": [
      "Creating database for zentered/vercel-preview-url...\n",
      "Analyzing zentered/vercel-preview-url...\n"
     ]
    },
    {
     "name": "stderr",
     "output_type": "stream",
     "text": [
      "Analyzing repositories: 100%|██████████| 292/292 [4:03:27<00:00, 50.03s/it]\n"
     ]
    }
   ],
   "source": [
    "import codeql_analysis as cqa\n",
    "\n",
    "# Define paths based on your updated requirements\n",
    "csv_file_path = '/Users/pavt/Documents/research/research-projects/GA-Security/github-action-security/src/sampling/sampled_repos.csv'                # Path to your CSV file with repository info\n",
    "base_dir = '/Users/pavt/Documents/research/research-projects/GA-Security/github-action-security/src/clonning_repos/clonning_repos/repos_cloned'          # Directory where repositories are cloned\n",
    "results_dir = '/Users/pavt/Documents/research/research-projects/software/data/results/results_github_actions/multi_language_results2'  # Directory to store CodeQL databases and results\n",
    "\n",
    "# Run the analysis\n",
    "cqa.run_analysis(csv_file_path, base_dir, results_dir, num_repos=304)\n"
   ]
  },
  {
   "cell_type": "code",
   "execution_count": null,
   "metadata": {},
   "outputs": [],
   "source": []
  }
 ],
 "metadata": {
  "kernelspec": {
   "display_name": ".venv",
   "language": "python",
   "name": "python3"
  },
  "language_info": {
   "codemirror_mode": {
    "name": "ipython",
    "version": 3
   },
   "file_extension": ".py",
   "mimetype": "text/x-python",
   "name": "python",
   "nbconvert_exporter": "python",
   "pygments_lexer": "ipython3",
   "version": "3.12.6"
  }
 },
 "nbformat": 4,
 "nbformat_minor": 2
}
